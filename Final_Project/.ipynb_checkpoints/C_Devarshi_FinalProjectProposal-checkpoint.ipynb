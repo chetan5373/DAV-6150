{
 "cells": [
  {
   "cell_type": "markdown",
   "id": "40a4f441",
   "metadata": {},
   "source": [
    "### <CENTER><h1><u>Final Project Proposal</u></CENTER></h1>\n",
    "\n",
    "<br>\n",
    "\n",
    "<CENTER>(TEAM : CHAITANYA DEVARSHI, SHASHANK SHEKHAR, BITTERLEIN KONNOTH BIJU)</CENTER>\n",
    "\n",
    "----\n",
    "\n",
    "==================================================================================================================="
   ]
  },
  {
   "cell_type": "markdown",
   "id": "af835d23",
   "metadata": {},
   "source": [
    "<h1><u>Content</u></h1>\n",
    "\n",
    "1. [Introduction](#1.-Introduction)\n",
    "  \n",
    "\n",
    "2. [Research Questions](#2.-Research-Questions)\n",
    "  \n",
    "\n",
    "3. [Data to be Used](#3.-Data-to-be-Used)\n",
    "\n",
    "\n",
    "4. [Approach](#4.-Approach)"
   ]
  },
  {
   "cell_type": "markdown",
   "id": "9e7bfe75",
   "metadata": {},
   "source": [
    "==================================================================================================================="
   ]
  },
  {
   "cell_type": "markdown",
   "id": "4c79b770",
   "metadata": {},
   "source": [
    "# 1. Introduction"
   ]
  },
  {
   "cell_type": "markdown",
   "id": "a41e5d40",
   "metadata": {},
   "source": [
    "This section should provide some context for the basis of the research questions you plan to answer without\n",
    "actually describing the research questions themselves. For example, if your research questions are focused on\n",
    "a health related issue, you might provide a brief summary of how many people are affected by that issue each\n",
    "year either regionally, nationally or globally, including any infection rate or mortality statistics you were able\n",
    "to gather. Basically, in the Introduction you are trying to make the reader understand why the research\n",
    "questions you are going to propose are relevant and should be of interest to them."
   ]
  },
  {
   "cell_type": "markdown",
   "id": "7b9d8993",
   "metadata": {},
   "source": [
    "----\n",
    "\n",
    "<b> [Back to Content](#Content) </b>"
   ]
  },
  {
   "cell_type": "markdown",
   "id": "4ff611d0",
   "metadata": {},
   "source": [
    "# 2. Research Questions"
   ]
  },
  {
   "cell_type": "markdown",
   "id": "22f38f48",
   "metadata": {},
   "source": [
    "Provide a single succinct sentence describing each of your research questions. Then provide a paragraph or\n",
    "two explaining how the results of your research might be used/implemented in the \"real world\"."
   ]
  },
  {
   "cell_type": "markdown",
   "id": "4116fed0",
   "metadata": {},
   "source": [
    "----\n",
    "\n",
    "<b> [Back to Content](#Content) </b>"
   ]
  },
  {
   "cell_type": "markdown",
   "id": "d4010dc0",
   "metadata": {},
   "source": [
    "# 3. Data to be Used"
   ]
  },
  {
   "cell_type": "markdown",
   "id": "99dfea35",
   "metadata": {},
   "source": [
    "Clearly identify the sources of your data and explain the methods you will use to collect the data from those\n",
    "sources, e.g., \"Data will need to be collected from this source via scraping of a web page..\", etc."
   ]
  },
  {
   "cell_type": "markdown",
   "id": "4534ccb2",
   "metadata": {},
   "source": [
    "----\n",
    "\n",
    "<b> [Back to Content](#Content) </b>"
   ]
  },
  {
   "cell_type": "markdown",
   "id": "f6f0a073",
   "metadata": {},
   "source": [
    "# 4. Approach"
   ]
  },
  {
   "cell_type": "markdown",
   "id": "404f53d4",
   "metadata": {},
   "source": [
    "Explain how you plan to manage the data you are collecting: e.g., will you be storing it within some sort of\n",
    "database, etc.? Explain what types of statistical analysis you plan to utilize to help answer your research\n",
    "questions. Explain any graphics you plan to generate to help answer your research questions. Identify the\n",
    "three different types of models you plan to construct and how you will compare their performance. Explain\n",
    "your plan for combining the output of the four required individual “weak learner” models into a single\n",
    "ensemble model, etc. The reader should come away with a clear understanding of how you plan to proceed\n",
    "with your work. Keep in mind that since this is a proposal, you need to be able to convince the reader that\n",
    "your proposed project is: a) realistic; and b) feasible within the time allotted for the project. Also, be sure to\n",
    "clearly articulate the roles and responsibilities of each team member for your Project work."
   ]
  },
  {
   "cell_type": "markdown",
   "id": "848ec548",
   "metadata": {},
   "source": [
    "<b> [TOP⬆️](#Final-Project-Proposal) </b>\n",
    "\n",
    "---\n",
    "<h3><center>THE END</center></h3>\n",
    "\n",
    "==================================================================================================================="
   ]
  }
 ],
 "metadata": {
  "kernelspec": {
   "display_name": "Python 3",
   "language": "python",
   "name": "python3"
  },
  "language_info": {
   "codemirror_mode": {
    "name": "ipython",
    "version": 3
   },
   "file_extension": ".py",
   "mimetype": "text/x-python",
   "name": "python",
   "nbconvert_exporter": "python",
   "pygments_lexer": "ipython3",
   "version": "3.8.8"
  }
 },
 "nbformat": 4,
 "nbformat_minor": 5
}
