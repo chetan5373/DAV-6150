{
 "cells": [
  {
   "cell_type": "markdown",
   "id": "d0b15771",
   "metadata": {},
   "source": [
    "### <CENTER><h1><u>Binary Logistic Regression</u></CENTER></h1>\n",
    "\n",
    "<br>\n",
    "\n",
    "<CENTER>(TEAM CONTRIBUTORS: SHASHANK SHEKHAR, BITTERLEIN KONNOTH BIJU, CHAITANYA DEVARSHI)</CENTER>\n",
    "\n",
    "-------\n",
    "-------"
   ]
  },
  {
   "cell_type": "markdown",
   "id": "8eb4f209",
   "metadata": {},
   "source": [
    "<h2><u>Content</u></h2>\n",
    "\n",
    "1. [Introduction](#1.-Introduction)\n",
    "\n",
    "  1.1 [Problem Statement](#1.1-Problem-Statement)\n",
    "  \n",
    "  1.2 [Methodology](#1.2-Methodology)\n",
    "  \n",
    "\n",
    "2. [Data Loading & Preparation](#2.-Data-Loading-&-Preparation)\n",
    "\n",
    "  2.1 [Read the Data](#2.1-Read-the-Data)\n",
    "  \n",
    "\n",
    "3. [EDA](#3.-Exploratory-Data-Analysis)\n",
    "\n",
    "  3.1 [Missing Values](#3.1-Missing-Values)\n",
    "  \n",
    "  3.2 [Univariate](#3.2-Univariate-Analysis)\n",
    "  \n",
    "   - 3.2.1 [For numeric features](#3.2.1-Univariate-Analysis-for-numeric-features)\n",
    "     \n",
    "   - 3.2.2 [For Binary features](#3.2.2-Univariate-Analysis-for-Binary-features)\n",
    "     \n",
    "  3.3 [Bivariate](#3.3-Bivariate-Analysis)\n",
    "  \n",
    "  3.4 [Multivariate](#3.4-Multivariate-Analysis)\n",
    "\n",
    "\n",
    "4. [Data Cleaning](#4.-Data-Cleaning)\n",
    "\n",
    "  4.1 [Handling Outliers](#4.1-Handling-Outliers)\n",
    "\n",
    "  4.2 [Handling Skewness](#4.2-Handling-Skewness)\n",
    "\n",
    "\n",
    "5. [Prepped Data Review](#5.-Prepped-Data-Review)\n",
    "\n",
    "\n",
    "6. [Dimensionality Reduction](#6.-Dimensionality-Reduction)\n",
    "\n",
    "  6.1 [Variance Threshold](#6.1-Variance-Threshold)\n",
    "  \n",
    "  6.2 [Forward Elimination](#6.2-Forward-Elimination)\n",
    "\n",
    "\n",
    "7. [Binary Logistic Regression Models](#7.-Binary-Logistic-Regression-Models)\n",
    "\n",
    "  7.1 [1<sup>st</sup> Model](#7.1-1st-Model)\n",
    "  \n",
    "  7.2 [2<sup>nd</sup> Model](#7.2-2nd-Model)\n",
    "  \n",
    "  7.3 [3<sup>rd</sup> Model](#7.3-3rd-Model)\n",
    "  \n",
    "  \n",
    "8. [Model Selection](#8.-Model-Selection)\n",
    "\n",
    "\n",
    "9. [Conclusion](#Conclusion)\n"
   ]
  },
  {
   "cell_type": "markdown",
   "id": "169aafd8",
   "metadata": {},
   "source": [
    "==================================================================================================================="
   ]
  },
  {
   "cell_type": "markdown",
   "id": "9228ca2b",
   "metadata": {},
   "source": [
    "## 1. Introduction"
   ]
  },
  {
   "cell_type": "code",
   "execution_count": null,
   "id": "0ef454e0",
   "metadata": {},
   "outputs": [],
   "source": []
  },
  {
   "cell_type": "markdown",
   "id": "d64c4028",
   "metadata": {},
   "source": [
    "----\n",
    "\n",
    "<b> [Back to Content](#Content) </b>"
   ]
  },
  {
   "cell_type": "markdown",
   "id": "604bcb5b",
   "metadata": {},
   "source": [
    "## 1.1 Problem Statement"
   ]
  },
  {
   "cell_type": "code",
   "execution_count": null,
   "id": "48bdc3f4",
   "metadata": {},
   "outputs": [],
   "source": []
  },
  {
   "cell_type": "markdown",
   "id": "9b79564c",
   "metadata": {},
   "source": [
    "----\n",
    "\n",
    "<b> [Back to Content](#Content) </b>"
   ]
  },
  {
   "cell_type": "markdown",
   "id": "a9d6d87f",
   "metadata": {},
   "source": [
    "## 1.2 Methodology"
   ]
  },
  {
   "cell_type": "markdown",
   "id": "108c06f9",
   "metadata": {},
   "source": [
    "<h3><u> To address this assignment, we will follow these below steps :- </u></h3>\n",
    "\n",
    "1. **Load the dataset**: Upload the `M7_Data.csv` file from the DAV 6150 Github Repository.\n",
    "\n",
    "2. **Read the dataset**: Using a Jupyter Notebook, read the dataset from the respective Github repository and load it into a Pandas DataFrame.\n",
    "\n",
    "3. **Perform EDA**: Carry out Exploratory Data Analysis to examine the dataset's structure and understand the variables.\n",
    "\n",
    "4. **Identify and rectify issues**: Detect data quality and integrity issues such as missing values or outliers during EDA, and take appropriate actions to address them.\n",
    "\n",
    "5. **Prepped Data Review**: Here, we will cross check every thing and will make sure our data is ready for further analysis.\n",
    "\n",
    "6. **Feature Scale, Selection & Dimensionality Reduction**: Applying feature selection techniques and perform dimensionality reduction to prepare the data for modeling.\n",
    "\n",
    "7. **Binary Logistic Regression Modelling**: We will make 3 different models of Binary Logistic Regression.\n",
    "\n",
    "8. **Models Selection**: Among the 3 different models, we will make our judgement on selecting one model.\n",
    "\n",
    "9. **Conclusion**: We will conclude our work."
   ]
  },
  {
   "cell_type": "markdown",
   "id": "f4d9b98a",
   "metadata": {},
   "source": [
    "----\n",
    "\n",
    "<b> [Back to Content](#Content) </b>"
   ]
  },
  {
   "cell_type": "markdown",
   "id": "13641919",
   "metadata": {},
   "source": [
    "## 2. Data Loading & Preparation"
   ]
  },
  {
   "cell_type": "code",
   "execution_count": 1,
   "id": "22858488",
   "metadata": {},
   "outputs": [],
   "source": [
    "# Importing basic Libraries.\n",
    "\n",
    "import pandas as pd \n",
    "import numpy as np\n",
    "\n",
    "# Importing Libraries for statistical analysis.\n",
    "\n",
    "import statsmodels.api as sm\n",
    "from scipy import stats\n",
    "\n",
    "# Importing Libraries for machine learning models.\n",
    "\n",
    "import sklearn\n",
    "from sklearn import metrics\n",
    "import imblearn\n",
    "from imblearn.metrics import specificity_score\n",
    "from sklearn.metrics import roc_auc_score, roc_curve, auc, classification_report\n",
    "from sklearn.feature_selection import VarianceThreshold\n",
    "\n",
    "# Importing Libraries for plotting the graphs.\n",
    "\n",
    "import matplotlib.pyplot as plt\n",
    "import seaborn as sns\n",
    "import plotly.express as px\n",
    "%matplotlib inline\n",
    "\n",
    "# Importing Libraries for Standarising and Normalising.\n",
    "\n",
    "from sklearn.preprocessing import StandardScaler\n",
    "\n",
    "# Import Library for PCA\n",
    "\n",
    "from sklearn.decomposition import PCA\n",
    "\n",
    "# Import missingno library for checking on missing values.\n",
    "\n",
    "import missingno as msno\n",
    "\n",
    "# Importing train_test_split .\n",
    "\n",
    "from sklearn.model_selection import train_test_split, cross_val_score, KFold\n",
    "\n",
    "# Importing Libraries for Forward elemination.\n",
    "\n",
    "from mlxtend.feature_selection import SequentialFeatureSelector as sfs\n",
    "from sklearn.linear_model import LinearRegression\n",
    "\n",
    "# Importing filterwarnings from warnings to ignore warnings.\n",
    "\n",
    "import warnings\n",
    "warnings.filterwarnings(\"ignore\")"
   ]
  },
  {
   "cell_type": "markdown",
   "id": "cc26aaf1",
   "metadata": {},
   "source": [
    "----\n",
    "\n",
    "<b> [Back to Content](#Content) </b>"
   ]
  },
  {
   "cell_type": "markdown",
   "id": "83a87a00",
   "metadata": {},
   "source": [
    "### 2.1 Read the Data"
   ]
  },
  {
   "cell_type": "code",
   "execution_count": 2,
   "id": "62cc46d3",
   "metadata": {},
   "outputs": [
    {
     "data": {
      "text/html": [
       "<div>\n",
       "<style scoped>\n",
       "    .dataframe tbody tr th:only-of-type {\n",
       "        vertical-align: middle;\n",
       "    }\n",
       "\n",
       "    .dataframe tbody tr th {\n",
       "        vertical-align: top;\n",
       "    }\n",
       "\n",
       "    .dataframe thead th {\n",
       "        text-align: right;\n",
       "    }\n",
       "</style>\n",
       "<table border=\"1\" class=\"dataframe\">\n",
       "  <thead>\n",
       "    <tr style=\"text-align: right;\">\n",
       "      <th></th>\n",
       "      <th>TARGET</th>\n",
       "      <th>loyalty</th>\n",
       "      <th>ID</th>\n",
       "      <th>city</th>\n",
       "      <th>prod_A</th>\n",
       "      <th>type_A</th>\n",
       "      <th>type_B</th>\n",
       "      <th>prod_B</th>\n",
       "      <th>contract</th>\n",
       "      <th>age</th>\n",
       "      <th>age_P</th>\n",
       "      <th>lor_M</th>\n",
       "      <th>LOR</th>\n",
       "      <th>turnover_A</th>\n",
       "      <th>turnover_B</th>\n",
       "    </tr>\n",
       "  </thead>\n",
       "  <tbody>\n",
       "    <tr>\n",
       "      <th>0</th>\n",
       "      <td>Y</td>\n",
       "      <td>99</td>\n",
       "      <td>77</td>\n",
       "      <td>2</td>\n",
       "      <td>0</td>\n",
       "      <td>0</td>\n",
       "      <td>0</td>\n",
       "      <td>0</td>\n",
       "      <td>2</td>\n",
       "      <td>66</td>\n",
       "      <td>66</td>\n",
       "      <td>3</td>\n",
       "      <td>0</td>\n",
       "      <td>333.561114</td>\n",
       "      <td>264.721010</td>\n",
       "    </tr>\n",
       "    <tr>\n",
       "      <th>1</th>\n",
       "      <td>Y</td>\n",
       "      <td>1</td>\n",
       "      <td>159</td>\n",
       "      <td>2</td>\n",
       "      <td>1</td>\n",
       "      <td>3</td>\n",
       "      <td>3</td>\n",
       "      <td>1</td>\n",
       "      <td>2</td>\n",
       "      <td>45</td>\n",
       "      <td>45</td>\n",
       "      <td>39</td>\n",
       "      <td>3</td>\n",
       "      <td>394.735699</td>\n",
       "      <td>284.904978</td>\n",
       "    </tr>\n",
       "    <tr>\n",
       "      <th>2</th>\n",
       "      <td>Y</td>\n",
       "      <td>1</td>\n",
       "      <td>220</td>\n",
       "      <td>2</td>\n",
       "      <td>1</td>\n",
       "      <td>3</td>\n",
       "      <td>6</td>\n",
       "      <td>1</td>\n",
       "      <td>2</td>\n",
       "      <td>42</td>\n",
       "      <td>42</td>\n",
       "      <td>27</td>\n",
       "      <td>2</td>\n",
       "      <td>342.180990</td>\n",
       "      <td>1175.589721</td>\n",
       "    </tr>\n",
       "    <tr>\n",
       "      <th>3</th>\n",
       "      <td>Y</td>\n",
       "      <td>99</td>\n",
       "      <td>303</td>\n",
       "      <td>2</td>\n",
       "      <td>0</td>\n",
       "      <td>0</td>\n",
       "      <td>0</td>\n",
       "      <td>0</td>\n",
       "      <td>2</td>\n",
       "      <td>31</td>\n",
       "      <td>31</td>\n",
       "      <td>3</td>\n",
       "      <td>0</td>\n",
       "      <td>453.757916</td>\n",
       "      <td>242.341754</td>\n",
       "    </tr>\n",
       "    <tr>\n",
       "      <th>4</th>\n",
       "      <td>Y</td>\n",
       "      <td>99</td>\n",
       "      <td>306</td>\n",
       "      <td>2</td>\n",
       "      <td>0</td>\n",
       "      <td>0</td>\n",
       "      <td>0</td>\n",
       "      <td>0</td>\n",
       "      <td>2</td>\n",
       "      <td>62</td>\n",
       "      <td>62</td>\n",
       "      <td>3</td>\n",
       "      <td>0</td>\n",
       "      <td>384.577469</td>\n",
       "      <td>287.008370</td>\n",
       "    </tr>\n",
       "  </tbody>\n",
       "</table>\n",
       "</div>"
      ],
      "text/plain": [
       "  TARGET  loyalty   ID  city  prod_A  type_A  type_B  prod_B  contract  age  \\\n",
       "0      Y       99   77     2       0       0       0       0         2   66   \n",
       "1      Y        1  159     2       1       3       3       1         2   45   \n",
       "2      Y        1  220     2       1       3       6       1         2   42   \n",
       "3      Y       99  303     2       0       0       0       0         2   31   \n",
       "4      Y       99  306     2       0       0       0       0         2   62   \n",
       "\n",
       "   age_P  lor_M  LOR  turnover_A   turnover_B  \n",
       "0     66      3    0  333.561114   264.721010  \n",
       "1     45     39    3  394.735699   284.904978  \n",
       "2     42     27    2  342.180990  1175.589721  \n",
       "3     31      3    0  453.757916   242.341754  \n",
       "4     62      3    0  384.577469   287.008370  "
      ]
     },
     "execution_count": 2,
     "metadata": {},
     "output_type": "execute_result"
    }
   ],
   "source": [
    "# Loading the data from the github repository DAV-6150.\n",
    "\n",
    "# Based on Domain knowledge assigning a proper data types to the columns while loading the data.\n",
    "column_types = {        \n",
    "        'TARGET': object,    \n",
    "        'loyalty': object,\n",
    "        'ID': 'int64',\n",
    "        'age': 'int64',\n",
    "        'city': object,\n",
    "        'LOR': 'int64',    \n",
    "        'prod_A': object,\n",
    "        'type_A': object,\n",
    "        'type_B': object,\n",
    "        'prod_B': object,    \n",
    "        'turnover_A': float,\n",
    "        'turnover_B': float,\n",
    "        'contract': object,\n",
    "        'age_P': 'int64',\n",
    "        'lor_M': 'int64'  \n",
    "    }\n",
    "\n",
    "insurance_data = pd.read_csv(\"https://raw.githubusercontent.com/chetan5373/DAV-6150/refs/heads/main/M7_Assignment/M7_Data.csv\")\n",
    "\n",
    "# Reorder the DataFrame columns. \n",
    "insurance_data = insurance_data[['TARGET', 'loyalty', 'ID', 'city', 'prod_A', 'type_A', 'type_B', 'prod_B', 'contract', \n",
    "                   'age', 'age_P', 'lor_M', 'LOR', 'turnover_A', 'turnover_B']]\n",
    "\n",
    "# Making a copy of the dataset.\n",
    "df = insurance_data.copy()\n",
    "\n",
    "df.head()"
   ]
  },
  {
   "cell_type": "code",
   "execution_count": 3,
   "id": "a0374d9c",
   "metadata": {},
   "outputs": [
    {
     "data": {
      "text/plain": [
       "(14016, 15)"
      ]
     },
     "execution_count": 3,
     "metadata": {},
     "output_type": "execute_result"
    }
   ],
   "source": [
    "# Identifing how many rows and columns the dataframe consist of.\n",
    "\n",
    "df.shape"
   ]
  },
  {
   "cell_type": "code",
   "execution_count": 4,
   "id": "ea7ed323",
   "metadata": {},
   "outputs": [
    {
     "name": "stdout",
     "output_type": "stream",
     "text": [
      "<class 'pandas.core.frame.DataFrame'>\n",
      "RangeIndex: 14016 entries, 0 to 14015\n",
      "Data columns (total 15 columns):\n",
      " #   Column      Non-Null Count  Dtype  \n",
      "---  ------      --------------  -----  \n",
      " 0   TARGET      14016 non-null  object \n",
      " 1   loyalty     14016 non-null  int64  \n",
      " 2   ID          14016 non-null  int64  \n",
      " 3   city        14016 non-null  int64  \n",
      " 4   prod_A      14016 non-null  int64  \n",
      " 5   type_A      14016 non-null  int64  \n",
      " 6   type_B      14016 non-null  int64  \n",
      " 7   prod_B      14016 non-null  int64  \n",
      " 8   contract    14016 non-null  int64  \n",
      " 9   age         14016 non-null  int64  \n",
      " 10  age_P       14016 non-null  int64  \n",
      " 11  lor_M       14016 non-null  int64  \n",
      " 12  LOR         14016 non-null  int64  \n",
      " 13  turnover_A  14016 non-null  float64\n",
      " 14  turnover_B  14016 non-null  float64\n",
      "dtypes: float64(2), int64(12), object(1)\n",
      "memory usage: 1.6+ MB\n"
     ]
    }
   ],
   "source": [
    "# Getting a concise summary of the DataFrame .\n",
    "\n",
    "df.info()"
   ]
  },
  {
   "cell_type": "markdown",
   "id": "3e537241",
   "metadata": {},
   "source": [
    "**Dataset observation:**\n",
    "\n",
    "\n",
    "\n",
    "- Index ranges from 0-14015.\n",
    "\n",
    "- Total number of attributes are 15.\n",
    "\n",
    "- Where, 12 are 'int', 2 are 'float' and 1 is 'object'.\n",
    "\n",
    "- As of now there are no any missing values in any columns."
   ]
  },
  {
   "cell_type": "markdown",
   "id": "8c179ea8",
   "metadata": {},
   "source": [
    "----\n",
    "\n",
    "<b> [Back to Content](#Content) </b>"
   ]
  },
  {
   "cell_type": "markdown",
   "id": "fc136515",
   "metadata": {},
   "source": [
    "## 3. Exploratory Data Analysis"
   ]
  },
  {
   "cell_type": "markdown",
   "id": "65bd3323",
   "metadata": {},
   "source": [
    "- Analyzing a data set for purposes of summarizing its characteristics, identifying relationships between its attributes, and discovering patterns, trends, outliers, missing values and invalid values within the data. "
   ]
  },
  {
   "cell_type": "code",
   "execution_count": 5,
   "id": "21c36356",
   "metadata": {},
   "outputs": [
    {
     "data": {
      "text/plain": [
       "Index(['TARGET', 'loyalty', 'ID', 'city', 'prod_A', 'type_A', 'type_B',\n",
       "       'prod_B', 'contract', 'age', 'age_P', 'lor_M', 'LOR', 'turnover_A',\n",
       "       'turnover_B'],\n",
       "      dtype='object')"
      ]
     },
     "execution_count": 5,
     "metadata": {},
     "output_type": "execute_result"
    }
   ],
   "source": [
    "# Checking columns names.\n",
    "\n",
    "df.columns"
   ]
  },
  {
   "cell_type": "markdown",
   "id": "16c3c2bd",
   "metadata": {},
   "source": [
    "----\n",
    "\n",
    "<b> [Back to Content](#Content) </b>"
   ]
  },
  {
   "cell_type": "markdown",
   "id": "22aec04b",
   "metadata": {},
   "source": [
    "### 3.1 Missing Values"
   ]
  },
  {
   "cell_type": "code",
   "execution_count": 6,
   "id": "416fe7ac",
   "metadata": {},
   "outputs": [
    {
     "data": {
      "text/plain": [
       "TARGET        0\n",
       "loyalty       0\n",
       "ID            0\n",
       "city          0\n",
       "prod_A        0\n",
       "type_A        0\n",
       "type_B        0\n",
       "prod_B        0\n",
       "contract      0\n",
       "age           0\n",
       "age_P         0\n",
       "lor_M         0\n",
       "LOR           0\n",
       "turnover_A    0\n",
       "turnover_B    0\n",
       "dtype: int64"
      ]
     },
     "execution_count": 6,
     "metadata": {},
     "output_type": "execute_result"
    }
   ],
   "source": [
    "# Checking for null values.\n",
    "\n",
    "df.isnull().sum()"
   ]
  },
  {
   "cell_type": "markdown",
   "id": "11209bad",
   "metadata": {},
   "source": [
    "- As of now there are no nulls present."
   ]
  },
  {
   "cell_type": "code",
   "execution_count": 7,
   "id": "5bb53216",
   "metadata": {},
   "outputs": [
    {
     "data": {
      "text/plain": [
       "3008"
      ]
     },
     "execution_count": 7,
     "metadata": {},
     "output_type": "execute_result"
    }
   ],
   "source": [
    "# Checking for duplicate values.\n",
    "\n",
    "df.ID.duplicated().sum()"
   ]
  },
  {
   "cell_type": "markdown",
   "id": "9869d893",
   "metadata": {},
   "source": [
    "- There are 3008 duplicate rows in the whole dataset, it should be removed."
   ]
  },
  {
   "cell_type": "code",
   "execution_count": 8,
   "id": "5e3696bd",
   "metadata": {},
   "outputs": [
    {
     "name": "stdout",
     "output_type": "stream",
     "text": [
      "There are negative values in the DataFrame.\n",
      "Columns with negative values: ['city']\n"
     ]
    }
   ],
   "source": [
    "# Check if any negative value exists in the entire DataFrame.\n",
    "\n",
    "# Select only numeric columns.\n",
    "numeric_df = df.select_dtypes(include=['number'])\n",
    "\n",
    "# Find columns that have negative values.\n",
    "columns_with_negatives = numeric_df.columns[(numeric_df < 0).any()]\n",
    "\n",
    "if (numeric_df < 0).any().any():\n",
    "    print(\"There are negative values in the DataFrame.\")\n",
    "else:\n",
    "    print(\"There are no negative values in the DataFrame.\")\n",
    "    \n",
    "# Print the column names that contain negative values.\n",
    "print(\"Columns with negative values:\", columns_with_negatives.tolist())"
   ]
  },
  {
   "cell_type": "markdown",
   "id": "166d04c0",
   "metadata": {},
   "source": [
    "----\n",
    "\n",
    "<b> [Back to Content](#Content) </b>"
   ]
  },
  {
   "cell_type": "markdown",
   "id": "cdbf291d",
   "metadata": {},
   "source": [
    "### 3.2 Univariate Analysis"
   ]
  },
  {
   "cell_type": "code",
   "execution_count": 9,
   "id": "8089ccad",
   "metadata": {},
   "outputs": [
    {
     "data": {
      "text/html": [
       "<div>\n",
       "<style scoped>\n",
       "    .dataframe tbody tr th:only-of-type {\n",
       "        vertical-align: middle;\n",
       "    }\n",
       "\n",
       "    .dataframe tbody tr th {\n",
       "        vertical-align: top;\n",
       "    }\n",
       "\n",
       "    .dataframe thead th {\n",
       "        text-align: right;\n",
       "    }\n",
       "</style>\n",
       "<table border=\"1\" class=\"dataframe\">\n",
       "  <thead>\n",
       "    <tr style=\"text-align: right;\">\n",
       "      <th></th>\n",
       "      <th>TARGET</th>\n",
       "      <th>loyalty</th>\n",
       "      <th>ID</th>\n",
       "      <th>city</th>\n",
       "      <th>prod_A</th>\n",
       "      <th>type_A</th>\n",
       "      <th>type_B</th>\n",
       "      <th>prod_B</th>\n",
       "      <th>contract</th>\n",
       "      <th>age</th>\n",
       "      <th>age_P</th>\n",
       "      <th>lor_M</th>\n",
       "      <th>LOR</th>\n",
       "      <th>turnover_A</th>\n",
       "      <th>turnover_B</th>\n",
       "    </tr>\n",
       "  </thead>\n",
       "  <tbody>\n",
       "    <tr>\n",
       "      <th>0</th>\n",
       "      <td>Y</td>\n",
       "      <td>99</td>\n",
       "      <td>77</td>\n",
       "      <td>2</td>\n",
       "      <td>0</td>\n",
       "      <td>0</td>\n",
       "      <td>0</td>\n",
       "      <td>0</td>\n",
       "      <td>2</td>\n",
       "      <td>66</td>\n",
       "      <td>66</td>\n",
       "      <td>3</td>\n",
       "      <td>0</td>\n",
       "      <td>333.561114</td>\n",
       "      <td>264.721010</td>\n",
       "    </tr>\n",
       "    <tr>\n",
       "      <th>1</th>\n",
       "      <td>Y</td>\n",
       "      <td>1</td>\n",
       "      <td>159</td>\n",
       "      <td>2</td>\n",
       "      <td>1</td>\n",
       "      <td>3</td>\n",
       "      <td>3</td>\n",
       "      <td>1</td>\n",
       "      <td>2</td>\n",
       "      <td>45</td>\n",
       "      <td>45</td>\n",
       "      <td>39</td>\n",
       "      <td>3</td>\n",
       "      <td>394.735699</td>\n",
       "      <td>284.904978</td>\n",
       "    </tr>\n",
       "    <tr>\n",
       "      <th>2</th>\n",
       "      <td>Y</td>\n",
       "      <td>1</td>\n",
       "      <td>220</td>\n",
       "      <td>2</td>\n",
       "      <td>1</td>\n",
       "      <td>3</td>\n",
       "      <td>6</td>\n",
       "      <td>1</td>\n",
       "      <td>2</td>\n",
       "      <td>42</td>\n",
       "      <td>42</td>\n",
       "      <td>27</td>\n",
       "      <td>2</td>\n",
       "      <td>342.180990</td>\n",
       "      <td>1175.589721</td>\n",
       "    </tr>\n",
       "    <tr>\n",
       "      <th>3</th>\n",
       "      <td>Y</td>\n",
       "      <td>99</td>\n",
       "      <td>303</td>\n",
       "      <td>2</td>\n",
       "      <td>0</td>\n",
       "      <td>0</td>\n",
       "      <td>0</td>\n",
       "      <td>0</td>\n",
       "      <td>2</td>\n",
       "      <td>31</td>\n",
       "      <td>31</td>\n",
       "      <td>3</td>\n",
       "      <td>0</td>\n",
       "      <td>453.757916</td>\n",
       "      <td>242.341754</td>\n",
       "    </tr>\n",
       "    <tr>\n",
       "      <th>4</th>\n",
       "      <td>Y</td>\n",
       "      <td>99</td>\n",
       "      <td>306</td>\n",
       "      <td>2</td>\n",
       "      <td>0</td>\n",
       "      <td>0</td>\n",
       "      <td>0</td>\n",
       "      <td>0</td>\n",
       "      <td>2</td>\n",
       "      <td>62</td>\n",
       "      <td>62</td>\n",
       "      <td>3</td>\n",
       "      <td>0</td>\n",
       "      <td>384.577469</td>\n",
       "      <td>287.008370</td>\n",
       "    </tr>\n",
       "  </tbody>\n",
       "</table>\n",
       "</div>"
      ],
      "text/plain": [
       "  TARGET  loyalty   ID  city  prod_A  type_A  type_B  prod_B  contract  age  \\\n",
       "0      Y       99   77     2       0       0       0       0         2   66   \n",
       "1      Y        1  159     2       1       3       3       1         2   45   \n",
       "2      Y        1  220     2       1       3       6       1         2   42   \n",
       "3      Y       99  303     2       0       0       0       0         2   31   \n",
       "4      Y       99  306     2       0       0       0       0         2   62   \n",
       "\n",
       "   age_P  lor_M  LOR  turnover_A   turnover_B  \n",
       "0     66      3    0  333.561114   264.721010  \n",
       "1     45     39    3  394.735699   284.904978  \n",
       "2     42     27    2  342.180990  1175.589721  \n",
       "3     31      3    0  453.757916   242.341754  \n",
       "4     62      3    0  384.577469   287.008370  "
      ]
     },
     "execution_count": 9,
     "metadata": {},
     "output_type": "execute_result"
    }
   ],
   "source": [
    "df.head()"
   ]
  },
  {
   "cell_type": "code",
   "execution_count": 10,
   "id": "407053f0",
   "metadata": {
    "scrolled": false
   },
   "outputs": [
    {
     "name": "stdout",
     "output_type": "stream",
     "text": [
      "<class 'pandas.core.frame.DataFrame'>\n",
      "RangeIndex: 14016 entries, 0 to 14015\n",
      "Data columns (total 15 columns):\n",
      " #   Column      Non-Null Count  Dtype  \n",
      "---  ------      --------------  -----  \n",
      " 0   TARGET      14016 non-null  object \n",
      " 1   loyalty     14016 non-null  int64  \n",
      " 2   ID          14016 non-null  int64  \n",
      " 3   city        14016 non-null  int64  \n",
      " 4   prod_A      14016 non-null  int64  \n",
      " 5   type_A      14016 non-null  int64  \n",
      " 6   type_B      14016 non-null  int64  \n",
      " 7   prod_B      14016 non-null  int64  \n",
      " 8   contract    14016 non-null  int64  \n",
      " 9   age         14016 non-null  int64  \n",
      " 10  age_P       14016 non-null  int64  \n",
      " 11  lor_M       14016 non-null  int64  \n",
      " 12  LOR         14016 non-null  int64  \n",
      " 13  turnover_A  14016 non-null  float64\n",
      " 14  turnover_B  14016 non-null  float64\n",
      "dtypes: float64(2), int64(12), object(1)\n",
      "memory usage: 1.6+ MB\n"
     ]
    }
   ],
   "source": [
    "df.info()"
   ]
  },
  {
   "cell_type": "markdown",
   "id": "35388784",
   "metadata": {},
   "source": [
    "----\n",
    "\n",
    "<b> [Back to Content](#Content) </b>"
   ]
  },
  {
   "cell_type": "markdown",
   "id": "6c6a3716",
   "metadata": {},
   "source": [
    "### 3.2.1 For Numeric Features"
   ]
  },
  {
   "cell_type": "code",
   "execution_count": 11,
   "id": "1aa512cc",
   "metadata": {},
   "outputs": [],
   "source": [
    "# Create function to plot dist and box plot for all the numeric features. \n",
    "\n",
    "def box_dist_plot(df , column):\n",
    "    \n",
    "    \n",
    "    \"\"\"\n",
    "    \n",
    "    This function is to plot box-plot and distribution-plot for a given column, \n",
    "    column's median value, with count and percentage of null values. \n",
    "    \n",
    "    Parameters :-\n",
    "        df : Dataframe           # df contains Dataframe.\n",
    "        column : str             # Column name which is to be ploted.\n",
    "    \n",
    "    \"\"\"\n",
    "    \n",
    "    plt.style.use('ggplot')  \n",
    "    \n",
    "    plt.figure(figsize=(18, 7))\n",
    "\n",
    "    # Box plot.\n",
    "    plt.subplot(121)\n",
    "    sns.boxplot(y = df[column])  # Create box plot\n",
    "    plt.title(f'Box Plot of : {column}')\n",
    "\n",
    "    # Distribution plot.\n",
    "    plt.subplot(122)\n",
    "    sns.histplot(df[column], bins=30, kde=True)  # Create histogram with KDE\n",
    "    plt.title(f'Distribution Plot of : {column}')\n",
    "\n",
    "    # Adjusting the layout.\n",
    "    plt.tight_layout() \n",
    "\n",
    "    plt.show()  \n",
    "\n",
    "    # To print statistics.\n",
    "    print(df[column].describe())\n",
    "    print('Median :', df[column].median())\n",
    "    print()\n",
    "    print('Total Number of null values :', df[column].isnull().sum(), 'count,', \n",
    "          round(df[column].isnull().mean() * 100, 2), '%')"
   ]
  },
  {
   "cell_type": "code",
   "execution_count": 12,
   "id": "587da338",
   "metadata": {},
   "outputs": [
    {
     "data": {
      "image/png": "[encoded data removed]",
      "text/plain": [
       "<Figure size 1296x504 with 2 Axes>"
      ]
     },
     "metadata": {},
     "output_type": "display_data"
    },
    {
     "name": "stdout",
     "output_type": "stream",
     "text": [
      "count    14016.000000\n",
      "mean        35.882920\n",
      "std         12.974634\n",
      "min          5.000000\n",
      "25%         25.000000\n",
      "50%         33.000000\n",
      "75%         43.000000\n",
      "max        102.000000\n",
      "Name: age, dtype: float64\n",
      "Median : 33.0\n",
      "\n",
      "Total Number of null values : 0 count, 0.0 %\n"
     ]
    }
   ],
   "source": [
    "box_dist_plot(df,'age')"
   ]
  },
  {
   "cell_type": "markdown",
   "id": "d211f0b9",
   "metadata": {},
   "source": [
    "- Here 'age' is the age of customers in years, data is right skewed and also it has an outliers, but they are valid data points."
   ]
  },
  {
   "cell_type": "code",
   "execution_count": 13,
   "id": "8a4f2452",
   "metadata": {},
   "outputs": [
    {
     "data": {
      "image/png": "[encoded data removed]",
      "text/plain": [
       "<Figure size 1296x504 with 2 Axes>"
      ]
     },
     "metadata": {},
     "output_type": "display_data"
    },
    {
     "name": "stdout",
     "output_type": "stream",
     "text": [
      "count    14016.000000\n",
      "mean        35.882920\n",
      "std         12.974634\n",
      "min          5.000000\n",
      "25%         25.000000\n",
      "50%         33.000000\n",
      "75%         43.000000\n",
      "max        102.000000\n",
      "Name: age_P, dtype: float64\n",
      "Median : 33.0\n",
      "\n",
      "Total Number of null values : 0 count, 0.0 %\n"
     ]
    }
   ],
   "source": [
    "box_dist_plot(df,'age_P')"
   ]
  },
  {
   "cell_type": "markdown",
   "id": "2eb1373a",
   "metadata": {},
   "source": [
    "- Here 'age_P' represents age of customers' partner in years, where data is right skewed and has a outliers. Thus, all the data points are valid."
   ]
  },
  {
   "cell_type": "markdown",
   "id": "46a98950",
   "metadata": {},
   "source": [
    "__Note__ - As per the above 2 univariate analysis of 'age' and 'age_P', has exactly the same statistic value, will check if each data points are same in both the attributes, then we can drop one of them."
   ]
  },
  {
   "cell_type": "code",
   "execution_count": 14,
   "id": "3cb0097d",
   "metadata": {
    "scrolled": false
   },
   "outputs": [
    {
     "data": {
      "image/png": "[encoded data removed]",
      "text/plain": [
       "<Figure size 1296x504 with 2 Axes>"
      ]
     },
     "metadata": {},
     "output_type": "display_data"
    },
    {
     "name": "stdout",
     "output_type": "stream",
     "text": [
      "count    14016.000000\n",
      "mean         0.926299\n",
      "std          0.965212\n",
      "min          0.000000\n",
      "25%          0.000000\n",
      "50%          1.000000\n",
      "75%          1.000000\n",
      "max          6.000000\n",
      "Name: LOR, dtype: float64\n",
      "Median : 1.0\n",
      "\n",
      "Total Number of null values : 0 count, 0.0 %\n"
     ]
    }
   ],
   "source": [
    "box_dist_plot(df,'LOR')"
   ]
  },
  {
   "cell_type": "markdown",
   "id": "9a4f1dae",
   "metadata": {},
   "source": [
    "- Here 'LOR', it is the length of relationship in years with the insurance company, mostly the data of relationship with the insurance company is 0 - 2 years, so there are outliers but are valid points."
   ]
  },
  {
   "cell_type": "code",
   "execution_count": 15,
   "id": "2b16ac96",
   "metadata": {},
   "outputs": [
    {
     "data": {
      "image/png": "[encoded data removed]",
      "text/plain": [
       "<Figure size 1296x504 with 2 Axes>"
      ]
     },
     "metadata": {},
     "output_type": "display_data"
    },
    {
     "name": "stdout",
     "output_type": "stream",
     "text": [
      "count    14016.000000\n",
      "mean        14.115582\n",
      "std         11.582550\n",
      "min          3.000000\n",
      "25%          3.000000\n",
      "50%         15.000000\n",
      "75%         15.000000\n",
      "max         75.000000\n",
      "Name: lor_M, dtype: float64\n",
      "Median : 15.0\n",
      "\n",
      "Total Number of null values : 0 count, 0.0 %\n"
     ]
    }
   ],
   "source": [
    "box_dist_plot(df,'lor_M')"
   ]
  },
  {
   "cell_type": "markdown",
   "id": "3613a582",
   "metadata": {},
   "source": [
    "- Here 'lor_M' it is the length of relationship in months with the insurance company, mostly the data of relationship with the insurance company is 0 - 30 months, so there are outliers but are valid points. By the way, this attribute is similar to the 'LOR' attributes in terms of observation, may be from both we can exclude one of them."
   ]
  },
  {
   "cell_type": "code",
   "execution_count": 16,
   "id": "386d7c39",
   "metadata": {},
   "outputs": [
    {
     "data": {
      "image/png": "[encoded data removed]",
      "text/plain": [
       "<Figure size 1296x504 with 2 Axes>"
      ]
     },
     "metadata": {},
     "output_type": "display_data"
    },
    {
     "name": "stdout",
     "output_type": "stream",
     "text": [
      "count    14016.000000\n",
      "mean       379.161320\n",
      "std         92.612207\n",
      "min        300.095909\n",
      "25%        334.919412\n",
      "50%        367.891493\n",
      "75%        399.744924\n",
      "max       5568.784139\n",
      "Name: turnover_A, dtype: float64\n",
      "Median : 367.8914932\n",
      "\n",
      "Total Number of null values : 0 count, 0.0 %\n"
     ]
    }
   ],
   "source": [
    "box_dist_plot(df,'turnover_A')"
   ]
  },
  {
   "cell_type": "markdown",
   "id": "f1025614",
   "metadata": {},
   "source": [
    "- Here 'turnover_A', it is a turnover of the sell of product-A, where highest turnover is around 5500 and lowest is around 300."
   ]
  },
  {
   "cell_type": "code",
   "execution_count": 17,
   "id": "d0abe5c7",
   "metadata": {},
   "outputs": [
    {
     "data": {
      "image/png": "[encoded data removed]",
      "text/plain": [
       "<Figure size 1296x504 with 2 Axes>"
      ]
     },
     "metadata": {},
     "output_type": "display_data"
    },
    {
     "name": "stdout",
     "output_type": "stream",
     "text": [
      "count    14016.000000\n",
      "mean       328.628207\n",
      "std        475.616525\n",
      "min        191.962852\n",
      "25%        219.406925\n",
      "50%        237.656757\n",
      "75%        264.131538\n",
      "max      12249.084770\n",
      "Name: turnover_B, dtype: float64\n",
      "Median : 237.65675670000002\n",
      "\n",
      "Total Number of null values : 0 count, 0.0 %\n"
     ]
    }
   ],
   "source": [
    "box_dist_plot(df,'turnover_B')"
   ]
  },
  {
   "cell_type": "markdown",
   "id": "c4883501",
   "metadata": {},
   "source": [
    "- Here 'turnover_B', it is a turnover of the sell of product-B, where highest turnover is around 12250 and lowest is around 190."
   ]
  },
  {
   "cell_type": "markdown",
   "id": "2d1729a8",
   "metadata": {},
   "source": [
    "----\n",
    "\n",
    "<b> [Back to Content](#Content) </b>"
   ]
  },
  {
   "cell_type": "markdown",
   "id": "c02fab05",
   "metadata": {},
   "source": [
    "### 3.2.2 For Categorical Features"
   ]
  },
  {
   "cell_type": "code",
   "execution_count": 18,
   "id": "5adbd1d0",
   "metadata": {},
   "outputs": [],
   "source": [
    "# Generates a count plot and displays the count of each category for a specified column in the dataframe.\n",
    "\n",
    "def plot_category_counts(df, column):\n",
    "    \n",
    "    \"\"\"\n",
    "    A function to plot a countplot and  displays the count of each category \n",
    "    for a specified column in the dataframe.\n",
    "    \n",
    "        column : str\n",
    "        The name of the categorical column to plot and count.\n",
    "    \"\"\"\n",
    "\n",
    "    # Count plot for the specified column.\n",
    "    plt.figure(figsize=(10, 6))\n",
    "    sns.countplot(data=df, x=column, palette=\"viridis\")\n",
    "    \n",
    "\n",
    "    # Set plot labels and title\n",
    "    plt.xlabel(column)  \n",
    "    plt.ylabel('Count')     \n",
    "    plt.xticks(rotation=90, ha='right')\n",
    "    plt.title(f'Count of {column}')\n",
    "\n",
    "    # Display the plot\n",
    "    plt.show()\n",
    "\n",
    "    # Display count of each category\n",
    "    counts = df[column].value_counts()\n",
    "    print(f\"\\nCounts for {column}:\\n{counts}\")\n",
    "\n",
    "    #For unique count of input\n",
    "    unique_count = df[column].nunique()\n",
    "    print(f\"\\nUnique for {column}:\\n{unique_count}\")"
   ]
  },
  {
   "cell_type": "code",
   "execution_count": 19,
   "id": "a155800b",
   "metadata": {
    "scrolled": false
   },
   "outputs": [
    {
     "data": {
      "image/png": "[encoded data removed]",
      "text/plain": [
       "<Figure size 720x432 with 1 Axes>"
      ]
     },
     "metadata": {},
     "output_type": "display_data"
    },
    {
     "name": "stdout",
     "output_type": "stream",
     "text": [
      "\n",
      "Counts for TARGET:\n",
      "TARGET\n",
      "N    8000\n",
      "Y    6016\n",
      "Name: count, dtype: int64\n",
      "\n",
      "Unique for TARGET:\n",
      "2\n"
     ]
    }
   ],
   "source": [
    "plot_category_counts(df, 'TARGET')"
   ]
  },
  {
   "cell_type": "markdown",
   "id": "649fa0ef",
   "metadata": {},
   "source": [
    "- There are 'Yes' values around 6016 and 8000 values of 'No' in our target variable."
   ]
  },
  {
   "cell_type": "code",
   "execution_count": 20,
   "id": "1aa0957b",
   "metadata": {},
   "outputs": [
    {
     "data": {
      "image/png": "[encoded data removed]",
      "text/plain": [
       "<Figure size 720x432 with 1 Axes>"
      ]
     },
     "metadata": {},
     "output_type": "display_data"
    },
    {
     "name": "stdout",
     "output_type": "stream",
     "text": [
      "\n",
      "Counts for loyalty:\n",
      "loyalty\n",
      "99    6986\n",
      "3     3069\n",
      "1     2480\n",
      "2     1425\n",
      "0       56\n",
      "Name: count, dtype: int64\n",
      "\n",
      "Unique for loyalty:\n",
      "5\n"
     ]
    }
   ],
   "source": [
    "plot_category_counts(df,'loyalty')"
   ]
  },
  {
   "cell_type": "markdown",
   "id": "5a33dc5c",
   "metadata": {},
   "source": [
    "- It is the level of loyalty from low to high (0 to 3), and 99 indicates unclassified values, there are lot of unclassified values which we don't need to worry about it."
   ]
  },
  {
   "cell_type": "code",
   "execution_count": 21,
   "id": "1c891d01",
   "metadata": {
    "scrolled": false
   },
   "outputs": [
    {
     "data": {
      "image/png": "[encoded data removed]",
      "text/plain": [
       "<Figure size 720x432 with 1 Axes>"
      ]
     },
     "metadata": {},
     "output_type": "display_data"
    },
    {
     "name": "stdout",
     "output_type": "stream",
     "text": [
      "\n",
      "Counts for city:\n",
      "city\n",
      "2      13720\n",
      "1         28\n",
      "0         26\n",
      "8         21\n",
      "9         20\n",
      "       ...  \n",
      "51         1\n",
      "107        1\n",
      "174        1\n",
      "141        1\n",
      "30         1\n",
      "Name: count, Length: 65, dtype: int64\n",
      "\n",
      "Unique for city:\n",
      "65\n"
     ]
    }
   ],
   "source": [
    "plot_category_counts(df,'city')"
   ]
  },
  {
   "cell_type": "markdown",
   "id": "dd08d34e",
   "metadata": {},
   "source": [
    "- As per the countplot, we can observe that most of the data is of one particular class. So, we will be checking the percentage of it."
   ]
  },
  {
   "cell_type": "code",
   "execution_count": 22,
   "id": "cd8816d1",
   "metadata": {
    "scrolled": false
   },
   "outputs": [
    {
     "data": {
      "text/plain": [
       "city\n",
       "2      97.888128\n",
       "1       0.199772\n",
       "0       0.185502\n",
       "8       0.149829\n",
       "9       0.142694\n",
       "         ...    \n",
       "51      0.007135\n",
       "107     0.007135\n",
       "174     0.007135\n",
       "141     0.007135\n",
       "30      0.007135\n",
       "Name: count, Length: 65, dtype: float64"
      ]
     },
     "execution_count": 22,
     "metadata": {},
     "output_type": "execute_result"
    }
   ],
   "source": [
    "# Calculating the percentage of the attribute 'city's unique values.\n",
    "\n",
    "(df.city.value_counts()/len(df.city)) * 100"
   ]
  },
  {
   "cell_type": "markdown",
   "id": "ce68de41",
   "metadata": {},
   "source": [
    "- As most of the data lies in 2, which means that 97.88% of the data is of the city-2. So, this particular city attribute is not of much use in training the models, we can get rid of this attribute.\n",
    "- This also reflects that our dataset is bias to one particular city (city-2)."
   ]
  },
  {
   "cell_type": "code",
   "execution_count": 23,
   "id": "dd24cb8f",
   "metadata": {
    "scrolled": false
   },
   "outputs": [
    {
     "data": {
      "image/png": "[encoded data removed]",
      "text/plain": [
       "<Figure size 720x432 with 1 Axes>"
      ]
     },
     "metadata": {},
     "output_type": "display_data"
    },
    {
     "name": "stdout",
     "output_type": "stream",
     "text": [
      "\n",
      "Counts for prod_A:\n",
      "prod_A\n",
      "1    7482\n",
      "0    6534\n",
      "Name: count, dtype: int64\n",
      "\n",
      "Unique for prod_A:\n",
      "2\n"
     ]
    }
   ],
   "source": [
    "plot_category_counts(df,'prod_A')"
   ]
  },
  {
   "cell_type": "markdown",
   "id": "945c7c4b",
   "metadata": {},
   "source": [
    "- Here it shows the count of product-A is bought."
   ]
  },
  {
   "cell_type": "code",
   "execution_count": 24,
   "id": "89850f6d",
   "metadata": {},
   "outputs": [
    {
     "data": {
      "image/png": "[encoded data removed]",
      "text/plain": [
       "<Figure size 720x432 with 1 Axes>"
      ]
     },
     "metadata": {},
     "output_type": "display_data"
    },
    {
     "name": "stdout",
     "output_type": "stream",
     "text": [
      "\n",
      "Counts for type_A:\n",
      "type_A\n",
      "3    7452\n",
      "0    6534\n",
      "6      30\n",
      "Name: count, dtype: int64\n",
      "\n",
      "Unique for type_A:\n",
      "3\n"
     ]
    }
   ],
   "source": [
    "plot_category_counts(df,'type_A')"
   ]
  },
  {
   "cell_type": "markdown",
   "id": "df850ac8",
   "metadata": {},
   "source": [
    "- Here it shows the count of each type of product-A, there are total 3 types of product-A."
   ]
  },
  {
   "cell_type": "code",
   "execution_count": 25,
   "id": "ae52bf08",
   "metadata": {},
   "outputs": [
    {
     "data": {
      "image/png": "[encoded data removed]",
      "text/plain": [
       "<Figure size 720x432 with 1 Axes>"
      ]
     },
     "metadata": {},
     "output_type": "display_data"
    },
    {
     "name": "stdout",
     "output_type": "stream",
     "text": [
      "\n",
      "Counts for type_B:\n",
      "type_B\n",
      "3    7874\n",
      "0    5614\n",
      "6     493\n",
      "9      35\n",
      "Name: count, dtype: int64\n",
      "\n",
      "Unique for type_B:\n",
      "4\n"
     ]
    }
   ],
   "source": [
    "plot_category_counts(df,'type_B')"
   ]
  },
  {
   "cell_type": "markdown",
   "id": "6afa89d5",
   "metadata": {},
   "source": [
    "- Here it shows the count of each type of product-B, there are total 4 types of product-B."
   ]
  },
  {
   "cell_type": "code",
   "execution_count": 26,
   "id": "009085d8",
   "metadata": {
    "scrolled": false
   },
   "outputs": [
    {
     "data": {
      "image/png": "[encoded data removed]",
      "text/plain": [
       "<Figure size 720x432 with 1 Axes>"
      ]
     },
     "metadata": {},
     "output_type": "display_data"
    },
    {
     "name": "stdout",
     "output_type": "stream",
     "text": [
      "\n",
      "Counts for prod_B:\n",
      "prod_B\n",
      "1    8402\n",
      "0    5614\n",
      "Name: count, dtype: int64\n",
      "\n",
      "Unique for prod_B:\n",
      "2\n"
     ]
    }
   ],
   "source": [
    "plot_category_counts(df,'prod_B')"
   ]
  },
  {
   "cell_type": "markdown",
   "id": "91e04d95",
   "metadata": {},
   "source": [
    "- Here it shows the count of product-B is bought."
   ]
  },
  {
   "cell_type": "code",
   "execution_count": 27,
   "id": "53ecb8ec",
   "metadata": {},
   "outputs": [
    {
     "data": {
      "image/png": "[encoded data removed]",
      "text/plain": [
       "<Figure size 720x432 with 1 Axes>"
      ]
     },
     "metadata": {},
     "output_type": "display_data"
    },
    {
     "name": "stdout",
     "output_type": "stream",
     "text": [
      "\n",
      "Counts for contract:\n",
      "contract\n",
      "2    14016\n",
      "Name: count, dtype: int64\n",
      "\n",
      "Unique for contract:\n",
      "1\n"
     ]
    }
   ],
   "source": [
    "plot_category_counts(df,'contract')"
   ]
  },
  {
   "cell_type": "markdown",
   "id": "0b373c65",
   "metadata": {},
   "source": [
    "- Here it is the count of contracts, but here is only one type of contract. So, it will not of our use, and furtherly we can get rid of it.\n",
    "- We can say that our dataset only of contract type-2."
   ]
  },
  {
   "cell_type": "markdown",
   "id": "6c2096ab",
   "metadata": {},
   "source": [
    "__Note__ - 'ID' attribute is unique identifier which has no role in model training so we will be excluding it under data cleaning, that is why we are not ploting anything for it."
   ]
  },
  {
   "cell_type": "markdown",
   "id": "55b404d3",
   "metadata": {},
   "source": [
    "----\n",
    "\n",
    "<b> [Back to Content](#Content) </b>"
   ]
  },
  {
   "cell_type": "markdown",
   "id": "78462a22",
   "metadata": {},
   "source": [
    "### 3.3 Bivariate Analysis"
   ]
  },
  {
   "cell_type": "code",
   "execution_count": null,
   "id": "1cb341d2",
   "metadata": {},
   "outputs": [],
   "source": []
  },
  {
   "cell_type": "markdown",
   "id": "b8b8b2a3",
   "metadata": {},
   "source": [
    "----\n",
    "\n",
    "<b> [Back to Content](#Content) </b>"
   ]
  },
  {
   "cell_type": "markdown",
   "id": "44c7b20e",
   "metadata": {},
   "source": [
    "### 3.4 Multivariate Analysis"
   ]
  },
  {
   "cell_type": "code",
   "execution_count": null,
   "id": "6bc8d2f0",
   "metadata": {},
   "outputs": [],
   "source": []
  },
  {
   "cell_type": "markdown",
   "id": "f855a40d",
   "metadata": {},
   "source": [
    "----\n",
    "\n",
    "<b> [Back to Content](#Content) </b>"
   ]
  },
  {
   "cell_type": "markdown",
   "id": "42c6445c",
   "metadata": {},
   "source": [
    "## 4. Data Cleaning"
   ]
  },
  {
   "cell_type": "code",
   "execution_count": 28,
   "id": "501ad905",
   "metadata": {},
   "outputs": [
    {
     "data": {
      "text/plain": [
       "TARGET        0\n",
       "loyalty       0\n",
       "ID            0\n",
       "city          0\n",
       "prod_A        0\n",
       "type_A        0\n",
       "type_B        0\n",
       "prod_B        0\n",
       "contract      0\n",
       "age           0\n",
       "age_P         0\n",
       "lor_M         0\n",
       "LOR           0\n",
       "turnover_A    0\n",
       "turnover_B    0\n",
       "dtype: int64"
      ]
     },
     "execution_count": 28,
     "metadata": {},
     "output_type": "execute_result"
    }
   ],
   "source": [
    "# Check for missing values in each columns.\n",
    "\n",
    "df.isnull().sum()"
   ]
  },
  {
   "cell_type": "code",
   "execution_count": 29,
   "id": "550aecba",
   "metadata": {},
   "outputs": [],
   "source": [
    "# The lambda function converts 'Y' to 1 and any other value to 0 on 'Target' attribute.\n",
    "\n",
    "df['TARGET'] = df['TARGET'].apply(lambda x: 1 if x == 'Y' else 0)"
   ]
  },
  {
   "cell_type": "markdown",
   "id": "a2606ce3",
   "metadata": {},
   "source": [
    "- Converting the 'Y' & 'N' to '1' & '0' of response variable('TARGET'), for better analysis."
   ]
  },
  {
   "cell_type": "code",
   "execution_count": 30,
   "id": "7e7db6a2",
   "metadata": {},
   "outputs": [
    {
     "data": {
      "text/plain": [
       "TARGET\n",
       "0    8000\n",
       "1    6016\n",
       "Name: count, dtype: int64"
      ]
     },
     "execution_count": 30,
     "metadata": {},
     "output_type": "execute_result"
    }
   ],
   "source": [
    "# Checking the 'Target'.\n",
    "\n",
    "df.TARGET.value_counts()"
   ]
  },
  {
   "cell_type": "code",
   "execution_count": 31,
   "id": "94322718",
   "metadata": {},
   "outputs": [
    {
     "name": "stdout",
     "output_type": "stream",
     "text": [
      "Number of duplicate rows : 3008\n"
     ]
    }
   ],
   "source": [
    "# Checking the duplicate columns.\n",
    "\n",
    "count_duplicate = df.duplicated().sum()\n",
    "\n",
    "print(f\"Number of duplicate rows :\",count_duplicate)"
   ]
  },
  {
   "cell_type": "code",
   "execution_count": 32,
   "id": "457cb7e9",
   "metadata": {},
   "outputs": [
    {
     "data": {
      "text/plain": [
       "(11008, 15)"
      ]
     },
     "execution_count": 32,
     "metadata": {},
     "output_type": "execute_result"
    }
   ],
   "source": [
    "# Removing the duplicate rows.\n",
    "\n",
    "df = df[df.duplicated() == False]\n",
    "\n",
    "# Checking the shape after removing the duplicate rows.\n",
    "df.shape"
   ]
  },
  {
   "cell_type": "code",
   "execution_count": 33,
   "id": "13253940",
   "metadata": {},
   "outputs": [],
   "source": [
    "# Removing the unwanted attributes, which has been traced from the univariate analysis.\n",
    "\n",
    "df = df.drop(columns=['ID', 'contract', 'city'], axis =1)"
   ]
  },
  {
   "cell_type": "code",
   "execution_count": 34,
   "id": "fb2ed52f",
   "metadata": {
    "scrolled": true
   },
   "outputs": [
    {
     "name": "stdout",
     "output_type": "stream",
     "text": [
      "11008\n",
      "0\n"
     ]
    }
   ],
   "source": [
    "# Checking the each data points of 'age' & 'age_P', as mentioned earlier in the note from univariate analysis.\n",
    "\n",
    "a = 0\n",
    "p = 0\n",
    "\n",
    "for i in range(len(df.age)):\n",
    "    if df.age[i] == df.age_P[i]:\n",
    "        a += 1\n",
    "    else:\n",
    "        p += 1\n",
    "\n",
    "print(a)\n",
    "print(p)"
   ]
  },
  {
   "cell_type": "markdown",
   "id": "c48df53c",
   "metadata": {},
   "source": [
    "- So, here both the attributes are eaxctly the same value in each cells. So, we will be removing 'age_P'."
   ]
  },
  {
   "cell_type": "code",
   "execution_count": 35,
   "id": "716e7d8d",
   "metadata": {},
   "outputs": [],
   "source": [
    "# Removing 'age_P' attribute.\n",
    "\n",
    "df = df.drop(columns=['age_P'], axis =1)"
   ]
  },
  {
   "cell_type": "code",
   "execution_count": 36,
   "id": "16266ef2",
   "metadata": {},
   "outputs": [],
   "source": [
    "# Removing 'lor_M' as detected from the bivariate analysis that - the correlation of LOR and lor_M is 1, \n",
    "# which means that they both have very strong correlation and provides similar information, only difference is that\n",
    "# one entity is in years and other is in months. So, we can remove either of it.\n",
    "\n",
    "df = df.drop(columns=['lor_M'], axis =1)"
   ]
  },
  {
   "cell_type": "markdown",
   "id": "3ea2c346",
   "metadata": {},
   "source": [
    "----\n",
    "\n",
    "<b> [Back to Content](#Content) </b>"
   ]
  },
  {
   "cell_type": "markdown",
   "id": "320bdc8c",
   "metadata": {},
   "source": [
    "### 4.1 Handling Outliers"
   ]
  },
  {
   "cell_type": "code",
   "execution_count": 37,
   "id": "3254e923",
   "metadata": {},
   "outputs": [
    {
     "name": "stdout",
     "output_type": "stream",
     "text": [
      "range in age: [2.400000000000002, 63.599999999999994]\n",
      "The maximum value in age is: 102\n",
      "range in LOR: [-1.2, 2.2]\n",
      "The maximum value in LOR is: 6\n",
      "range in turnover_A: [261.024582805, 462.772978195]\n",
      "The maximum value in turnover_A is: 5568.784139\n",
      "range in turnover_B: [175.75318235499998, 296.30824707]\n",
      "The maximum value in turnover_B is: 12249.08477\n"
     ]
    }
   ],
   "source": [
    "# Getting only numeric columns, except 'LOR'.\n",
    "numeric_cols = ['age', 'LOR', 'turnover_A', 'turnover_B']\n",
    "\n",
    "# Looping through numeric columns to get the lower and upper bound values.  \n",
    "for col in numeric_cols:\n",
    "    q1 = np.quantile(df[col], 0.25)\n",
    "    q3 = np.quantile(df[col], 0.75)\n",
    "    iqr = q3 - q1\n",
    "    upper_bound = q3 + (1.2 * iqr)                  # Multiplying by 1.2 to not get the values in negative.\n",
    "    lower_bound = q1 - (1.2 * iqr)\n",
    "    range = [lower_bound, upper_bound]\n",
    "    print(f\"range in {col}:\",range)\n",
    "    \n",
    "    # checking the maximum value \n",
    "    max_value = df[col].max()\n",
    "    print(f\"The maximum value in {col} is: {max_value}\")"
   ]
  },
  {
   "cell_type": "markdown",
   "id": "70dc6c30",
   "metadata": {},
   "source": [
    "- From this, we can observe that the maximum values of  features such as age, LOR, turnover_A, and turnover_B  they are higher than upper bound values it should be potential outliers. However, we  believe  the numbers are acceptable and valid. For example:  12,249  is a valid value for turnover_B and also in age maximum value  can be 102. So, we retain the values for better analysis.\n",
    "\n",
    "- Reference: https://medium.com/@akashmishra77/box-plots-detect-and-remove-outliers-from-distribution-a124ee88cf3e"
   ]
  },
  {
   "cell_type": "markdown",
   "id": "c097adb8",
   "metadata": {},
   "source": [
    "----\n",
    "\n",
    "<b> [Back to Content](#Content) </b>"
   ]
  },
  {
   "cell_type": "markdown",
   "id": "c81c1c5a",
   "metadata": {},
   "source": [
    "### 4.2 Handling Skewness"
   ]
  },
  {
   "cell_type": "code",
   "execution_count": 38,
   "id": "9cb83f1a",
   "metadata": {},
   "outputs": [
    {
     "name": "stdout",
     "output_type": "stream",
     "text": [
      "age           False\n",
      "LOR           False\n",
      "turnover_A    False\n",
      "turnover_B    False\n",
      "dtype: bool\n"
     ]
    }
   ],
   "source": [
    "# Checking for negative value.\n",
    "\n",
    "numeric_cols = ['age', 'LOR', 'turnover_A', 'turnover_B']\n",
    "\n",
    "negative_check = df[numeric_cols].apply(lambda x: (x < 0).any())\n",
    "\n",
    "print(negative_check)"
   ]
  },
  {
   "cell_type": "markdown",
   "id": "ee23c783",
   "metadata": {},
   "source": [
    "- All numeric attributes are non-negative."
   ]
  },
  {
   "cell_type": "code",
   "execution_count": 39,
   "id": "acc967f0",
   "metadata": {},
   "outputs": [
    {
     "name": "stdout",
     "output_type": "stream",
     "text": [
      "age           False\n",
      "LOR            True\n",
      "turnover_A    False\n",
      "turnover_B    False\n",
      "dtype: bool\n"
     ]
    }
   ],
   "source": [
    "# Checking for zero values.\n",
    "\n",
    "zero_check = df[numeric_cols].apply(lambda x: (x == 0).any())\n",
    "\n",
    "print(zero_check)"
   ]
  },
  {
   "cell_type": "markdown",
   "id": "c5485e31",
   "metadata": {},
   "source": [
    "- Except LOR all features above dont have zero value."
   ]
  },
  {
   "cell_type": "code",
   "execution_count": 40,
   "id": "de841736",
   "metadata": {},
   "outputs": [
    {
     "name": "stdout",
     "output_type": "stream",
     "text": [
      "Lambda value for age: -0.5205414380927459\n",
      "Lambda value for LOR: -0.09102608830147851\n",
      "Lambda value for turnover_A: -2.6717798044790606\n",
      "Lambda value for turnover_B: -3.0355327304148227\n"
     ]
    }
   ],
   "source": [
    "# Applying  Box-Cox transformation to each numeric columns for handeling the skewness.\n",
    "\n",
    "for col in numeric_cols:\n",
    "    \n",
    "    # Increasing  values by 1 to handle zeros\n",
    "    df[col] += 1\n",
    "    \n",
    "    # Performing Box-Cox transformation and save the lambda value\n",
    "    fitted_data, fitted_lambda = stats.boxcox(df[col])\n",
    "    \n",
    "    # Replacing original column with transformed data\n",
    "    df[col] = fitted_data\n",
    "    \n",
    "    #  Print lambda value for each column\n",
    "    print(f\"Lambda value for {col}: {fitted_lambda}\")"
   ]
  },
  {
   "cell_type": "markdown",
   "id": "37e9b35c",
   "metadata": {},
   "source": [
    "----\n",
    "\n",
    "<b> [Back to Content](#Content) </b>"
   ]
  },
  {
   "cell_type": "markdown",
   "id": "836c2ae4",
   "metadata": {},
   "source": [
    "## 5. Prepped Data Review"
   ]
  },
  {
   "cell_type": "code",
   "execution_count": 41,
   "id": "20d825a9",
   "metadata": {},
   "outputs": [
    {
     "data": {
      "text/html": [
       "<div>\n",
       "<style scoped>\n",
       "    .dataframe tbody tr th:only-of-type {\n",
       "        vertical-align: middle;\n",
       "    }\n",
       "\n",
       "    .dataframe tbody tr th {\n",
       "        vertical-align: top;\n",
       "    }\n",
       "\n",
       "    .dataframe thead th {\n",
       "        text-align: right;\n",
       "    }\n",
       "</style>\n",
       "<table border=\"1\" class=\"dataframe\">\n",
       "  <thead>\n",
       "    <tr style=\"text-align: right;\">\n",
       "      <th></th>\n",
       "      <th>TARGET</th>\n",
       "      <th>loyalty</th>\n",
       "      <th>prod_A</th>\n",
       "      <th>type_A</th>\n",
       "      <th>type_B</th>\n",
       "      <th>prod_B</th>\n",
       "      <th>age</th>\n",
       "      <th>LOR</th>\n",
       "      <th>turnover_A</th>\n",
       "      <th>turnover_B</th>\n",
       "    </tr>\n",
       "  </thead>\n",
       "  <tbody>\n",
       "    <tr>\n",
       "      <th>0</th>\n",
       "      <td>1</td>\n",
       "      <td>99</td>\n",
       "      <td>0</td>\n",
       "      <td>0</td>\n",
       "      <td>0</td>\n",
       "      <td>0</td>\n",
       "      <td>1.705800</td>\n",
       "      <td>0.000000</td>\n",
       "      <td>0.374282</td>\n",
       "      <td>0.329431</td>\n",
       "    </tr>\n",
       "    <tr>\n",
       "      <th>1</th>\n",
       "      <td>1</td>\n",
       "      <td>1</td>\n",
       "      <td>1</td>\n",
       "      <td>3</td>\n",
       "      <td>3</td>\n",
       "      <td>1</td>\n",
       "      <td>1.659252</td>\n",
       "      <td>1.302393</td>\n",
       "      <td>0.374282</td>\n",
       "      <td>0.329431</td>\n",
       "    </tr>\n",
       "    <tr>\n",
       "      <th>2</th>\n",
       "      <td>1</td>\n",
       "      <td>1</td>\n",
       "      <td>1</td>\n",
       "      <td>3</td>\n",
       "      <td>6</td>\n",
       "      <td>1</td>\n",
       "      <td>1.649897</td>\n",
       "      <td>1.045467</td>\n",
       "      <td>0.374282</td>\n",
       "      <td>0.329431</td>\n",
       "    </tr>\n",
       "    <tr>\n",
       "      <th>3</th>\n",
       "      <td>1</td>\n",
       "      <td>99</td>\n",
       "      <td>0</td>\n",
       "      <td>0</td>\n",
       "      <td>0</td>\n",
       "      <td>0</td>\n",
       "      <td>1.604811</td>\n",
       "      <td>0.000000</td>\n",
       "      <td>0.374282</td>\n",
       "      <td>0.329431</td>\n",
       "    </tr>\n",
       "    <tr>\n",
       "      <th>4</th>\n",
       "      <td>1</td>\n",
       "      <td>99</td>\n",
       "      <td>0</td>\n",
       "      <td>0</td>\n",
       "      <td>0</td>\n",
       "      <td>0</td>\n",
       "      <td>1.698790</td>\n",
       "      <td>0.000000</td>\n",
       "      <td>0.374282</td>\n",
       "      <td>0.329431</td>\n",
       "    </tr>\n",
       "  </tbody>\n",
       "</table>\n",
       "</div>"
      ],
      "text/plain": [
       "   TARGET  loyalty  prod_A  type_A  type_B  prod_B       age       LOR  \\\n",
       "0       1       99       0       0       0       0  1.705800  0.000000   \n",
       "1       1        1       1       3       3       1  1.659252  1.302393   \n",
       "2       1        1       1       3       6       1  1.649897  1.045467   \n",
       "3       1       99       0       0       0       0  1.604811  0.000000   \n",
       "4       1       99       0       0       0       0  1.698790  0.000000   \n",
       "\n",
       "   turnover_A  turnover_B  \n",
       "0    0.374282    0.329431  \n",
       "1    0.374282    0.329431  \n",
       "2    0.374282    0.329431  \n",
       "3    0.374282    0.329431  \n",
       "4    0.374282    0.329431  "
      ]
     },
     "execution_count": 41,
     "metadata": {},
     "output_type": "execute_result"
    }
   ],
   "source": [
    "# Checkig the cleaned dataframe.\n",
    "\n",
    "df.head()"
   ]
  },
  {
   "cell_type": "code",
   "execution_count": 42,
   "id": "9dd7be08",
   "metadata": {},
   "outputs": [
    {
     "data": {
      "text/plain": [
       "(11008, 10)"
      ]
     },
     "execution_count": 42,
     "metadata": {},
     "output_type": "execute_result"
    }
   ],
   "source": [
    "# Checking the shape of the df.\n",
    "\n",
    "df.shape"
   ]
  },
  {
   "cell_type": "code",
   "execution_count": 43,
   "id": "16b7090b",
   "metadata": {
    "scrolled": true
   },
   "outputs": [
    {
     "data": {
      "text/plain": [
       "TARGET          int64\n",
       "loyalty         int64\n",
       "prod_A          int64\n",
       "type_A          int64\n",
       "type_B          int64\n",
       "prod_B          int64\n",
       "age           float64\n",
       "LOR           float64\n",
       "turnover_A    float64\n",
       "turnover_B    float64\n",
       "dtype: object"
      ]
     },
     "execution_count": 43,
     "metadata": {},
     "output_type": "execute_result"
    }
   ],
   "source": [
    "# Checking every columns has the correct data types.\n",
    "\n",
    "df.dtypes"
   ]
  },
  {
   "cell_type": "code",
   "execution_count": 44,
   "id": "cdb46d77",
   "metadata": {},
   "outputs": [
    {
     "data": {
      "text/html": [
       "<div>\n",
       "<style scoped>\n",
       "    .dataframe tbody tr th:only-of-type {\n",
       "        vertical-align: middle;\n",
       "    }\n",
       "\n",
       "    .dataframe tbody tr th {\n",
       "        vertical-align: top;\n",
       "    }\n",
       "\n",
       "    .dataframe thead th {\n",
       "        text-align: right;\n",
       "    }\n",
       "</style>\n",
       "<table border=\"1\" class=\"dataframe\">\n",
       "  <thead>\n",
       "    <tr style=\"text-align: right;\">\n",
       "      <th></th>\n",
       "      <th>TARGET</th>\n",
       "      <th>loyalty</th>\n",
       "      <th>prod_A</th>\n",
       "      <th>type_A</th>\n",
       "      <th>type_B</th>\n",
       "      <th>prod_B</th>\n",
       "      <th>age</th>\n",
       "      <th>LOR</th>\n",
       "      <th>turnover_A</th>\n",
       "      <th>turnover_B</th>\n",
       "    </tr>\n",
       "  </thead>\n",
       "  <tbody>\n",
       "    <tr>\n",
       "      <th>count</th>\n",
       "      <td>11008.000000</td>\n",
       "      <td>11008.000000</td>\n",
       "      <td>11008.000000</td>\n",
       "      <td>11008.000000</td>\n",
       "      <td>11008.000000</td>\n",
       "      <td>11008.000000</td>\n",
       "      <td>11008.000000</td>\n",
       "      <td>11008.000000</td>\n",
       "      <td>1.100800e+04</td>\n",
       "      <td>1.100800e+04</td>\n",
       "    </tr>\n",
       "    <tr>\n",
       "      <th>mean</th>\n",
       "      <td>0.273256</td>\n",
       "      <td>46.533612</td>\n",
       "      <td>0.584393</td>\n",
       "      <td>1.759448</td>\n",
       "      <td>2.097929</td>\n",
       "      <td>0.652253</td>\n",
       "      <td>1.609518</td>\n",
       "      <td>0.553239</td>\n",
       "      <td>3.742823e-01</td>\n",
       "      <td>3.294314e-01</td>\n",
       "    </tr>\n",
       "    <tr>\n",
       "      <th>std</th>\n",
       "      <td>0.445651</td>\n",
       "      <td>48.292402</td>\n",
       "      <td>0.492849</td>\n",
       "      <td>1.490133</td>\n",
       "      <td>1.671441</td>\n",
       "      <td>0.476277</td>\n",
       "      <td>0.051393</td>\n",
       "      <td>0.439384</td>\n",
       "      <td>1.697099e-08</td>\n",
       "      <td>8.137179e-09</td>\n",
       "    </tr>\n",
       "    <tr>\n",
       "      <th>min</th>\n",
       "      <td>0.000000</td>\n",
       "      <td>0.000000</td>\n",
       "      <td>0.000000</td>\n",
       "      <td>0.000000</td>\n",
       "      <td>0.000000</td>\n",
       "      <td>0.000000</td>\n",
       "      <td>1.165141</td>\n",
       "      <td>0.000000</td>\n",
       "      <td>3.742823e-01</td>\n",
       "      <td>3.294314e-01</td>\n",
       "    </tr>\n",
       "    <tr>\n",
       "      <th>25%</th>\n",
       "      <td>0.000000</td>\n",
       "      <td>2.000000</td>\n",
       "      <td>0.000000</td>\n",
       "      <td>0.000000</td>\n",
       "      <td>0.000000</td>\n",
       "      <td>0.000000</td>\n",
       "      <td>1.561444</td>\n",
       "      <td>0.000000</td>\n",
       "      <td>3.742823e-01</td>\n",
       "      <td>3.294314e-01</td>\n",
       "    </tr>\n",
       "    <tr>\n",
       "      <th>50%</th>\n",
       "      <td>0.000000</td>\n",
       "      <td>3.000000</td>\n",
       "      <td>1.000000</td>\n",
       "      <td>3.000000</td>\n",
       "      <td>3.000000</td>\n",
       "      <td>1.000000</td>\n",
       "      <td>1.604811</td>\n",
       "      <td>0.671733</td>\n",
       "      <td>3.742823e-01</td>\n",
       "      <td>3.294314e-01</td>\n",
       "    </tr>\n",
       "    <tr>\n",
       "      <th>75%</th>\n",
       "      <td>1.000000</td>\n",
       "      <td>99.000000</td>\n",
       "      <td>1.000000</td>\n",
       "      <td>3.000000</td>\n",
       "      <td>3.000000</td>\n",
       "      <td>1.000000</td>\n",
       "      <td>1.649897</td>\n",
       "      <td>0.671733</td>\n",
       "      <td>3.742823e-01</td>\n",
       "      <td>3.294315e-01</td>\n",
       "    </tr>\n",
       "    <tr>\n",
       "      <th>max</th>\n",
       "      <td>1.000000</td>\n",
       "      <td>99.000000</td>\n",
       "      <td>1.000000</td>\n",
       "      <td>6.000000</td>\n",
       "      <td>9.000000</td>\n",
       "      <td>1.000000</td>\n",
       "      <td>1.748977</td>\n",
       "      <td>1.783312</td>\n",
       "      <td>3.742823e-01</td>\n",
       "      <td>3.294315e-01</td>\n",
       "    </tr>\n",
       "  </tbody>\n",
       "</table>\n",
       "</div>"
      ],
      "text/plain": [
       "             TARGET       loyalty        prod_A        type_A        type_B  \\\n",
       "count  11008.000000  11008.000000  11008.000000  11008.000000  11008.000000   \n",
       "mean       0.273256     46.533612      0.584393      1.759448      2.097929   \n",
       "std        0.445651     48.292402      0.492849      1.490133      1.671441   \n",
       "min        0.000000      0.000000      0.000000      0.000000      0.000000   \n",
       "25%        0.000000      2.000000      0.000000      0.000000      0.000000   \n",
       "50%        0.000000      3.000000      1.000000      3.000000      3.000000   \n",
       "75%        1.000000     99.000000      1.000000      3.000000      3.000000   \n",
       "max        1.000000     99.000000      1.000000      6.000000      9.000000   \n",
       "\n",
       "             prod_B           age           LOR    turnover_A    turnover_B  \n",
       "count  11008.000000  11008.000000  11008.000000  1.100800e+04  1.100800e+04  \n",
       "mean       0.652253      1.609518      0.553239  3.742823e-01  3.294314e-01  \n",
       "std        0.476277      0.051393      0.439384  1.697099e-08  8.137179e-09  \n",
       "min        0.000000      1.165141      0.000000  3.742823e-01  3.294314e-01  \n",
       "25%        0.000000      1.561444      0.000000  3.742823e-01  3.294314e-01  \n",
       "50%        1.000000      1.604811      0.671733  3.742823e-01  3.294314e-01  \n",
       "75%        1.000000      1.649897      0.671733  3.742823e-01  3.294315e-01  \n",
       "max        1.000000      1.748977      1.783312  3.742823e-01  3.294315e-01  "
      ]
     },
     "execution_count": 44,
     "metadata": {},
     "output_type": "execute_result"
    }
   ],
   "source": [
    "# Checking the descriptive statistics.\n",
    "\n",
    "df.describe()"
   ]
  },
  {
   "cell_type": "code",
   "execution_count": 45,
   "id": "5eb0cd08",
   "metadata": {},
   "outputs": [
    {
     "data": {
      "text/plain": [
       "0"
      ]
     },
     "execution_count": 45,
     "metadata": {},
     "output_type": "execute_result"
    }
   ],
   "source": [
    "# Ensure that there are no duplicates.\n",
    "\n",
    "df.duplicated().sum()"
   ]
  },
  {
   "cell_type": "code",
   "execution_count": 46,
   "id": "f05961a6",
   "metadata": {},
   "outputs": [
    {
     "data": {
      "text/plain": [
       "TARGET        0\n",
       "loyalty       0\n",
       "prod_A        0\n",
       "type_A        0\n",
       "type_B        0\n",
       "prod_B        0\n",
       "age           0\n",
       "LOR           0\n",
       "turnover_A    0\n",
       "turnover_B    0\n",
       "dtype: int64"
      ]
     },
     "execution_count": 46,
     "metadata": {},
     "output_type": "execute_result"
    }
   ],
   "source": [
    "# Ensuring that there is no null value present.\n",
    "\n",
    "df.isnull().sum()"
   ]
  },
  {
   "cell_type": "markdown",
   "id": "04f26dbd",
   "metadata": {},
   "source": [
    "----\n",
    "\n",
    "<b> [Back to Content](#Content) </b>"
   ]
  },
  {
   "cell_type": "markdown",
   "id": "76e8aa6d",
   "metadata": {},
   "source": [
    "#### Ensuring Univariate"
   ]
  },
  {
   "cell_type": "code",
   "execution_count": 47,
   "id": "73cde38c",
   "metadata": {},
   "outputs": [
    {
     "data": {
      "image/png": "[encoded data removed]",
      "text/plain": [
       "<Figure size 1296x504 with 2 Axes>"
      ]
     },
     "metadata": {},
     "output_type": "display_data"
    },
    {
     "name": "stdout",
     "output_type": "stream",
     "text": [
      "count    11008.000000\n",
      "mean         1.609518\n",
      "std          0.051393\n",
      "min          1.165141\n",
      "25%          1.561444\n",
      "50%          1.604811\n",
      "75%          1.649897\n",
      "max          1.748977\n",
      "Name: age, dtype: float64\n",
      "Median : 1.6048111904770759\n",
      "\n",
      "Total Number of null values : 0 count, 0.0 %\n"
     ]
    }
   ],
   "source": [
    "box_dist_plot(df, 'age')"
   ]
  },
  {
   "cell_type": "code",
   "execution_count": 48,
   "id": "25882778",
   "metadata": {},
   "outputs": [
    {
     "data": {
      "image/png": "[encoded data removed]",
      "text/plain": [
       "<Figure size 1296x504 with 2 Axes>"
      ]
     },
     "metadata": {},
     "output_type": "display_data"
    },
    {
     "name": "stdout",
     "output_type": "stream",
     "text": [
      "count    11008.000000\n",
      "mean         0.553239\n",
      "std          0.439384\n",
      "min          0.000000\n",
      "25%          0.000000\n",
      "50%          0.671733\n",
      "75%          0.671733\n",
      "max          1.783312\n",
      "Name: LOR, dtype: float64\n",
      "Median : 0.6717330308313425\n",
      "\n",
      "Total Number of null values : 0 count, 0.0 %\n"
     ]
    }
   ],
   "source": [
    "box_dist_plot(df, 'LOR')"
   ]
  },
  {
   "cell_type": "code",
   "execution_count": 49,
   "id": "91e2b3af",
   "metadata": {},
   "outputs": [
    {
     "data": {
      "image/png": "[encoded data removed]",
      "text/plain": [
       "<Figure size 1296x504 with 2 Axes>"
      ]
     },
     "metadata": {},
     "output_type": "display_data"
    },
    {
     "name": "stdout",
     "output_type": "stream",
     "text": [
      "count    1.100800e+04\n",
      "mean     3.742823e-01\n",
      "std      1.697099e-08\n",
      "min      3.742823e-01\n",
      "25%      3.742823e-01\n",
      "50%      3.742823e-01\n",
      "75%      3.742823e-01\n",
      "max      3.742823e-01\n",
      "Name: turnover_A, dtype: float64\n",
      "Median : 0.3742822868640177\n",
      "\n",
      "Total Number of null values : 0 count, 0.0 %\n"
     ]
    }
   ],
   "source": [
    "box_dist_plot(df, 'turnover_A')"
   ]
  },
  {
   "cell_type": "code",
   "execution_count": 50,
   "id": "8f3e9089",
   "metadata": {},
   "outputs": [
    {
     "data": {
      "image/png": "[encoded data removed]",
      "text/plain": [
       "<Figure size 1296x504 with 2 Axes>"
      ]
     },
     "metadata": {},
     "output_type": "display_data"
    },
    {
     "name": "stdout",
     "output_type": "stream",
     "text": [
      "count    1.100800e+04\n",
      "mean     3.294314e-01\n",
      "std      8.137179e-09\n",
      "min      3.294314e-01\n",
      "25%      3.294314e-01\n",
      "50%      3.294314e-01\n",
      "75%      3.294315e-01\n",
      "max      3.294315e-01\n",
      "Name: turnover_B, dtype: float64\n",
      "Median : 0.3294314461994894\n",
      "\n",
      "Total Number of null values : 0 count, 0.0 %\n"
     ]
    }
   ],
   "source": [
    "box_dist_plot(df, 'turnover_B')"
   ]
  },
  {
   "cell_type": "code",
   "execution_count": 51,
   "id": "e3d31e21",
   "metadata": {},
   "outputs": [
    {
     "data": {
      "image/png": "[encoded data removed]",
      "text/plain": [
       "<Figure size 720x432 with 1 Axes>"
      ]
     },
     "metadata": {},
     "output_type": "display_data"
    },
    {
     "name": "stdout",
     "output_type": "stream",
     "text": [
      "\n",
      "Counts for TARGET:\n",
      "TARGET\n",
      "0    8000\n",
      "1    3008\n",
      "Name: count, dtype: int64\n",
      "\n",
      "Unique for TARGET:\n",
      "2\n"
     ]
    }
   ],
   "source": [
    "plot_category_counts(df,'TARGET')"
   ]
  },
  {
   "cell_type": "code",
   "execution_count": 52,
   "id": "3426165a",
   "metadata": {},
   "outputs": [
    {
     "data": {
      "image/png": "[encoded data removed]",
      "text/plain": [
       "<Figure size 720x432 with 1 Axes>"
      ]
     },
     "metadata": {},
     "output_type": "display_data"
    },
    {
     "name": "stdout",
     "output_type": "stream",
     "text": [
      "\n",
      "Counts for loyalty:\n",
      "loyalty\n",
      "99    5048\n",
      "3     2701\n",
      "1     2019\n",
      "2     1184\n",
      "0       56\n",
      "Name: count, dtype: int64\n",
      "\n",
      "Unique for loyalty:\n",
      "5\n"
     ]
    }
   ],
   "source": [
    "plot_category_counts(df,'loyalty')"
   ]
  },
  {
   "cell_type": "code",
   "execution_count": 53,
   "id": "adb8321d",
   "metadata": {},
   "outputs": [
    {
     "data": {
      "image/png": "[encoded data removed]",
      "text/plain": [
       "<Figure size 720x432 with 1 Axes>"
      ]
     },
     "metadata": {},
     "output_type": "display_data"
    },
    {
     "name": "stdout",
     "output_type": "stream",
     "text": [
      "\n",
      "Counts for prod_A:\n",
      "prod_A\n",
      "1    6433\n",
      "0    4575\n",
      "Name: count, dtype: int64\n",
      "\n",
      "Unique for prod_A:\n",
      "2\n"
     ]
    }
   ],
   "source": [
    "plot_category_counts(df,'prod_A')"
   ]
  },
  {
   "cell_type": "code",
   "execution_count": 54,
   "id": "554a1867",
   "metadata": {},
   "outputs": [
    {
     "data": {
      "image/png": "[encoded data removed]",
      "text/plain": [
       "<Figure size 720x432 with 1 Axes>"
      ]
     },
     "metadata": {},
     "output_type": "display_data"
    },
    {
     "name": "stdout",
     "output_type": "stream",
     "text": [
      "\n",
      "Counts for type_A:\n",
      "type_A\n",
      "3    6410\n",
      "0    4575\n",
      "6      23\n",
      "Name: count, dtype: int64\n",
      "\n",
      "Unique for type_A:\n",
      "3\n"
     ]
    }
   ],
   "source": [
    "plot_category_counts(df,'type_A')"
   ]
  },
  {
   "cell_type": "code",
   "execution_count": 55,
   "id": "67c92a34",
   "metadata": {},
   "outputs": [
    {
     "data": {
      "image/png": "[encoded data removed]",
      "text/plain": [
       "<Figure size 720x432 with 1 Axes>"
      ]
     },
     "metadata": {},
     "output_type": "display_data"
    },
    {
     "name": "stdout",
     "output_type": "stream",
     "text": [
      "\n",
      "Counts for prod_B:\n",
      "prod_B\n",
      "1    7180\n",
      "0    3828\n",
      "Name: count, dtype: int64\n",
      "\n",
      "Unique for prod_B:\n",
      "2\n"
     ]
    }
   ],
   "source": [
    "plot_category_counts(df,'prod_B')"
   ]
  },
  {
   "cell_type": "code",
   "execution_count": 56,
   "id": "e5da66f2",
   "metadata": {},
   "outputs": [
    {
     "data": {
      "image/png": "[encoded data removed]",
      "text/plain": [
       "<Figure size 720x432 with 1 Axes>"
      ]
     },
     "metadata": {},
     "output_type": "display_data"
    },
    {
     "name": "stdout",
     "output_type": "stream",
     "text": [
      "\n",
      "Counts for type_B:\n",
      "type_B\n",
      "3    6695\n",
      "0    3828\n",
      "6     452\n",
      "9      33\n",
      "Name: count, dtype: int64\n",
      "\n",
      "Unique for type_B:\n",
      "4\n"
     ]
    }
   ],
   "source": [
    "plot_category_counts(df,'type_B')"
   ]
  },
  {
   "cell_type": "markdown",
   "id": "0fb9ffc7",
   "metadata": {},
   "source": [
    "----\n",
    "\n",
    "<b> [Back to Content](#Content) </b>"
   ]
  },
  {
   "cell_type": "markdown",
   "id": "aaaed7ab",
   "metadata": {},
   "source": [
    "#### Ensuring Bivariate"
   ]
  },
  {
   "cell_type": "code",
   "execution_count": null,
   "id": "69b4ee7b",
   "metadata": {},
   "outputs": [],
   "source": []
  },
  {
   "cell_type": "markdown",
   "id": "653c2189",
   "metadata": {},
   "source": [
    "----\n",
    "\n",
    "<b> [Back to Content](#Content) </b>"
   ]
  },
  {
   "cell_type": "markdown",
   "id": "fdcb7702",
   "metadata": {},
   "source": [
    "#### Multivariate Bivariate"
   ]
  },
  {
   "cell_type": "code",
   "execution_count": null,
   "id": "b34e32fb",
   "metadata": {},
   "outputs": [],
   "source": []
  },
  {
   "cell_type": "markdown",
   "id": "aa92b1ac",
   "metadata": {},
   "source": [
    "----\n",
    "\n",
    "<b> [Back to Content](#Content) </b>"
   ]
  },
  {
   "cell_type": "markdown",
   "id": "ada3a870",
   "metadata": {},
   "source": [
    "## 6. Dimensionality Reduction"
   ]
  },
  {
   "cell_type": "code",
   "execution_count": 57,
   "id": "c9865793",
   "metadata": {},
   "outputs": [
    {
     "name": "stdout",
     "output_type": "stream",
     "text": [
      "loyalty\n",
      "99    0.458576\n",
      "3     0.245367\n",
      "1     0.183412\n",
      "2     0.107558\n",
      "0     0.005087\n",
      "Name: proportion, dtype: float64\n"
     ]
    }
   ],
   "source": [
    "# Re-anlysising 'loyalty' column.\n",
    "\n",
    "print(df['loyalty'].value_counts(normalize=True))"
   ]
  },
  {
   "cell_type": "code",
   "execution_count": 58,
   "id": "54ded6b7",
   "metadata": {},
   "outputs": [],
   "source": [
    "# Removing 'loyalty' from df.\n",
    "\n",
    "df = df.drop(columns=['loyalty'], axis =1)"
   ]
  },
  {
   "cell_type": "code",
   "execution_count": 59,
   "id": "c6127d63",
   "metadata": {},
   "outputs": [
    {
     "data": {
      "text/plain": [
       "0    1\n",
       "1    1\n",
       "2    1\n",
       "3    1\n",
       "4    1\n",
       "Name: TARGET, dtype: int64"
      ]
     },
     "execution_count": 59,
     "metadata": {},
     "output_type": "execute_result"
    }
   ],
   "source": [
    "# Seperating 'TARGET' attribute from rest of the attributes, as it is the response variable.\n",
    "\n",
    "y = df['TARGET']\n",
    "\n",
    "y.head()"
   ]
  },
  {
   "cell_type": "code",
   "execution_count": 60,
   "id": "50390eec",
   "metadata": {},
   "outputs": [
    {
     "data": {
      "text/html": [
       "<div>\n",
       "<style scoped>\n",
       "    .dataframe tbody tr th:only-of-type {\n",
       "        vertical-align: middle;\n",
       "    }\n",
       "\n",
       "    .dataframe tbody tr th {\n",
       "        vertical-align: top;\n",
       "    }\n",
       "\n",
       "    .dataframe thead th {\n",
       "        text-align: right;\n",
       "    }\n",
       "</style>\n",
       "<table border=\"1\" class=\"dataframe\">\n",
       "  <thead>\n",
       "    <tr style=\"text-align: right;\">\n",
       "      <th></th>\n",
       "      <th>prod_A</th>\n",
       "      <th>type_A</th>\n",
       "      <th>type_B</th>\n",
       "      <th>prod_B</th>\n",
       "      <th>age</th>\n",
       "      <th>LOR</th>\n",
       "      <th>turnover_A</th>\n",
       "      <th>turnover_B</th>\n",
       "    </tr>\n",
       "  </thead>\n",
       "  <tbody>\n",
       "    <tr>\n",
       "      <th>0</th>\n",
       "      <td>0</td>\n",
       "      <td>0</td>\n",
       "      <td>0</td>\n",
       "      <td>0</td>\n",
       "      <td>1.705800</td>\n",
       "      <td>0.000000</td>\n",
       "      <td>0.374282</td>\n",
       "      <td>0.329431</td>\n",
       "    </tr>\n",
       "    <tr>\n",
       "      <th>1</th>\n",
       "      <td>1</td>\n",
       "      <td>3</td>\n",
       "      <td>3</td>\n",
       "      <td>1</td>\n",
       "      <td>1.659252</td>\n",
       "      <td>1.302393</td>\n",
       "      <td>0.374282</td>\n",
       "      <td>0.329431</td>\n",
       "    </tr>\n",
       "  </tbody>\n",
       "</table>\n",
       "</div>"
      ],
      "text/plain": [
       "   prod_A  type_A  type_B  prod_B       age       LOR  turnover_A  turnover_B\n",
       "0       0       0       0       0  1.705800  0.000000    0.374282    0.329431\n",
       "1       1       3       3       1  1.659252  1.302393    0.374282    0.329431"
      ]
     },
     "execution_count": 60,
     "metadata": {},
     "output_type": "execute_result"
    }
   ],
   "source": [
    "# Dropping the 'TARGET' column.\n",
    "\n",
    "X = df.drop('TARGET', axis=1)\n",
    "\n",
    "X.head(2)"
   ]
  },
  {
   "cell_type": "code",
   "execution_count": 61,
   "id": "5ff1c504",
   "metadata": {},
   "outputs": [
    {
     "data": {
      "text/html": [
       "<div>\n",
       "<style scoped>\n",
       "    .dataframe tbody tr th:only-of-type {\n",
       "        vertical-align: middle;\n",
       "    }\n",
       "\n",
       "    .dataframe tbody tr th {\n",
       "        vertical-align: top;\n",
       "    }\n",
       "\n",
       "    .dataframe thead th {\n",
       "        text-align: right;\n",
       "    }\n",
       "</style>\n",
       "<table border=\"1\" class=\"dataframe\">\n",
       "  <thead>\n",
       "    <tr style=\"text-align: right;\">\n",
       "      <th></th>\n",
       "      <th>prod_A_1</th>\n",
       "      <th>type_A_3</th>\n",
       "      <th>type_A_6</th>\n",
       "      <th>prod_B_1</th>\n",
       "      <th>type_B_3</th>\n",
       "      <th>type_B_6</th>\n",
       "      <th>type_B_9</th>\n",
       "    </tr>\n",
       "  </thead>\n",
       "  <tbody>\n",
       "    <tr>\n",
       "      <th>0</th>\n",
       "      <td>0</td>\n",
       "      <td>0</td>\n",
       "      <td>0</td>\n",
       "      <td>0</td>\n",
       "      <td>0</td>\n",
       "      <td>0</td>\n",
       "      <td>0</td>\n",
       "    </tr>\n",
       "    <tr>\n",
       "      <th>1</th>\n",
       "      <td>1</td>\n",
       "      <td>1</td>\n",
       "      <td>0</td>\n",
       "      <td>1</td>\n",
       "      <td>1</td>\n",
       "      <td>0</td>\n",
       "      <td>0</td>\n",
       "    </tr>\n",
       "  </tbody>\n",
       "</table>\n",
       "</div>"
      ],
      "text/plain": [
       "   prod_A_1  type_A_3  type_A_6  prod_B_1  type_B_3  type_B_6  type_B_9\n",
       "0         0         0         0         0         0         0         0\n",
       "1         1         1         0         1         1         0         0"
      ]
     },
     "execution_count": 61,
     "metadata": {},
     "output_type": "execute_result"
    }
   ],
   "source": [
    "# Get the dummy data from the categorical columns.\n",
    "cat_cols = ['prod_A', 'type_A', 'prod_B', 'type_B']\n",
    "\n",
    "# Converting the categorical columns to object type.\n",
    "X[cat_cols] = X[cat_cols].astype('object')\n",
    "\n",
    "\n",
    "X_cat_dummy = pd.get_dummies(X[cat_cols], drop_first=True).astype(int)\n",
    "\n",
    "X_cat_dummy.head(2)"
   ]
  },
  {
   "cell_type": "code",
   "execution_count": 62,
   "id": "b383faa0",
   "metadata": {},
   "outputs": [],
   "source": [
    "# Drop the original columns from the DataFrame.\n",
    "\n",
    "X.drop(columns=cat_cols, inplace=True)"
   ]
  },
  {
   "cell_type": "code",
   "execution_count": 63,
   "id": "084e23fc",
   "metadata": {},
   "outputs": [],
   "source": [
    "# Standarise the numeric attributes.\n",
    "\n",
    "from sklearn.preprocessing import StandardScaler\n",
    "\n",
    "std_scaler = StandardScaler()\n",
    "\n",
    "X_std = std_scaler.fit_transform(X)"
   ]
  },
  {
   "cell_type": "code",
   "execution_count": 64,
   "id": "11a4aa38",
   "metadata": {},
   "outputs": [
    {
     "name": "stdout",
     "output_type": "stream",
     "text": [
      "        age       LOR  turnover_A  turnover_B\n",
      "0  1.873532 -1.259182   -0.706133    0.687127\n",
      "1  0.967765  1.705087    0.728699    1.039776\n",
      "2  0.785730  1.120318   -0.445347    2.437441\n",
      "3 -0.091594 -1.259182    1.514893    0.145390\n",
      "4  1.737127 -1.259182    0.546376    1.070957\n"
     ]
    }
   ],
   "source": [
    "# Convert the nd array of X_std to a DataFrame with the desired column names\n",
    "X_std = pd.DataFrame(X_std, columns=['age', 'LOR', 'turnover_A', 'turnover_B'])\n",
    "\n",
    "# Optional: View the first few rows to ensure the data is correctly formatted\n",
    "print(X_std.head())"
   ]
  },
  {
   "cell_type": "code",
   "execution_count": 65,
   "id": "e1f04123",
   "metadata": {},
   "outputs": [
    {
     "data": {
      "text/html": [
       "<div>\n",
       "<style scoped>\n",
       "    .dataframe tbody tr th:only-of-type {\n",
       "        vertical-align: middle;\n",
       "    }\n",
       "\n",
       "    .dataframe tbody tr th {\n",
       "        vertical-align: top;\n",
       "    }\n",
       "\n",
       "    .dataframe thead th {\n",
       "        text-align: right;\n",
       "    }\n",
       "</style>\n",
       "<table border=\"1\" class=\"dataframe\">\n",
       "  <thead>\n",
       "    <tr style=\"text-align: right;\">\n",
       "      <th></th>\n",
       "      <th>age</th>\n",
       "      <th>LOR</th>\n",
       "      <th>turnover_A</th>\n",
       "      <th>turnover_B</th>\n",
       "      <th>prod_A_1</th>\n",
       "      <th>type_A_3</th>\n",
       "      <th>type_A_6</th>\n",
       "      <th>prod_B_1</th>\n",
       "      <th>type_B_3</th>\n",
       "      <th>type_B_6</th>\n",
       "      <th>type_B_9</th>\n",
       "    </tr>\n",
       "  </thead>\n",
       "  <tbody>\n",
       "    <tr>\n",
       "      <th>0</th>\n",
       "      <td>1.873532</td>\n",
       "      <td>-1.259182</td>\n",
       "      <td>-0.706133</td>\n",
       "      <td>0.687127</td>\n",
       "      <td>0</td>\n",
       "      <td>0</td>\n",
       "      <td>0</td>\n",
       "      <td>0</td>\n",
       "      <td>0</td>\n",
       "      <td>0</td>\n",
       "      <td>0</td>\n",
       "    </tr>\n",
       "    <tr>\n",
       "      <th>1</th>\n",
       "      <td>0.967765</td>\n",
       "      <td>1.705087</td>\n",
       "      <td>0.728699</td>\n",
       "      <td>1.039776</td>\n",
       "      <td>1</td>\n",
       "      <td>1</td>\n",
       "      <td>0</td>\n",
       "      <td>1</td>\n",
       "      <td>1</td>\n",
       "      <td>0</td>\n",
       "      <td>0</td>\n",
       "    </tr>\n",
       "    <tr>\n",
       "      <th>2</th>\n",
       "      <td>0.785730</td>\n",
       "      <td>1.120318</td>\n",
       "      <td>-0.445347</td>\n",
       "      <td>2.437441</td>\n",
       "      <td>1</td>\n",
       "      <td>1</td>\n",
       "      <td>0</td>\n",
       "      <td>1</td>\n",
       "      <td>0</td>\n",
       "      <td>1</td>\n",
       "      <td>0</td>\n",
       "    </tr>\n",
       "    <tr>\n",
       "      <th>3</th>\n",
       "      <td>-0.091594</td>\n",
       "      <td>-1.259182</td>\n",
       "      <td>1.514893</td>\n",
       "      <td>0.145390</td>\n",
       "      <td>0</td>\n",
       "      <td>0</td>\n",
       "      <td>0</td>\n",
       "      <td>0</td>\n",
       "      <td>0</td>\n",
       "      <td>0</td>\n",
       "      <td>0</td>\n",
       "    </tr>\n",
       "    <tr>\n",
       "      <th>4</th>\n",
       "      <td>1.737127</td>\n",
       "      <td>-1.259182</td>\n",
       "      <td>0.546376</td>\n",
       "      <td>1.070957</td>\n",
       "      <td>0</td>\n",
       "      <td>0</td>\n",
       "      <td>0</td>\n",
       "      <td>0</td>\n",
       "      <td>0</td>\n",
       "      <td>0</td>\n",
       "      <td>0</td>\n",
       "    </tr>\n",
       "  </tbody>\n",
       "</table>\n",
       "</div>"
      ],
      "text/plain": [
       "        age       LOR  turnover_A  turnover_B  prod_A_1  type_A_3  type_A_6  \\\n",
       "0  1.873532 -1.259182   -0.706133    0.687127         0         0         0   \n",
       "1  0.967765  1.705087    0.728699    1.039776         1         1         0   \n",
       "2  0.785730  1.120318   -0.445347    2.437441         1         1         0   \n",
       "3 -0.091594 -1.259182    1.514893    0.145390         0         0         0   \n",
       "4  1.737127 -1.259182    0.546376    1.070957         0         0         0   \n",
       "\n",
       "   prod_B_1  type_B_3  type_B_6  type_B_9  \n",
       "0         0         0         0         0  \n",
       "1         1         1         0         0  \n",
       "2         1         0         1         0  \n",
       "3         0         0         0         0  \n",
       "4         0         0         0         0  "
      ]
     },
     "execution_count": 65,
     "metadata": {},
     "output_type": "execute_result"
    }
   ],
   "source": [
    "# Concatenate the original DataFrame with the one-hot encoded columns with the numeric stadarised data.\n",
    "\n",
    "X = pd.concat([X_std, X_cat_dummy], axis=1)\n",
    "\n",
    "X.head()"
   ]
  },
  {
   "cell_type": "code",
   "execution_count": 66,
   "id": "f3767792",
   "metadata": {},
   "outputs": [
    {
     "data": {
      "text/plain": [
       "(11008, 11)"
      ]
     },
     "execution_count": 66,
     "metadata": {},
     "output_type": "execute_result"
    }
   ],
   "source": [
    "# Checking the shape of dataframe having independent attributes.\n",
    "\n",
    "X.shape"
   ]
  },
  {
   "cell_type": "code",
   "execution_count": 67,
   "id": "dd353c70",
   "metadata": {},
   "outputs": [],
   "source": [
    "# Create the train & test split.\n",
    "\n",
    "from sklearn.model_selection import train_test_split\n",
    "\n",
    "X_train, X_test, y_train, y_test = train_test_split(X, y, test_size=0.3, random_state=42)"
   ]
  },
  {
   "cell_type": "code",
   "execution_count": 68,
   "id": "2993ecaa",
   "metadata": {},
   "outputs": [
    {
     "name": "stdout",
     "output_type": "stream",
     "text": [
      "Training dataset shapes ->  X: (7705, 11), y: (7705,)\n",
      "Testing dataset shapes  ->  X: (3303, 11), y: (3303,)\n"
     ]
    }
   ],
   "source": [
    "# Print the shapes of the resulting datasets.\n",
    "\n",
    "print(\"Training dataset shapes ->  X: {}, y: {}\".format(X_train.shape, y_train.shape))\n",
    "print(\"Testing dataset shapes  ->  X: {}, y: {}\".format(X_test.shape, y_test.shape))"
   ]
  },
  {
   "cell_type": "markdown",
   "id": "4bfc5eed",
   "metadata": {},
   "source": [
    "----\n",
    "\n",
    "<b> [Back to Content](#Content) </b>"
   ]
  },
  {
   "cell_type": "markdown",
   "id": "3dc183c9",
   "metadata": {},
   "source": [
    "### 6.1 Variance Threshold"
   ]
  },
  {
   "cell_type": "code",
   "execution_count": 69,
   "id": "016b8ba0",
   "metadata": {},
   "outputs": [
    {
     "name": "stdout",
     "output_type": "stream",
     "text": [
      "Total number of attributes with Low Variance : 2\n"
     ]
    }
   ],
   "source": [
    "# Creating the VarianceThreshold object (remove features with variance below the threshold)\n",
    "selector = VarianceThreshold(threshold=0.01)\n",
    "\n",
    "# Fit the selector to the data\n",
    "selector.fit(X_train)\n",
    "\n",
    "selector.get_support()\n",
    "\n",
    "# Get the list of featurs with low variance.\n",
    "low_var_cols = [col for col in X.columns if col not in X.columns[selector.get_support()]]\n",
    "\n",
    "print(f\"Total number of attributes with Low Variance : {len(low_var_cols)}\")"
   ]
  },
  {
   "cell_type": "code",
   "execution_count": 70,
   "id": "06aee348",
   "metadata": {},
   "outputs": [
    {
     "name": "stdout",
     "output_type": "stream",
     "text": [
      "Shape of dataframe after removing the low variance columns : (7705, 9)\n",
      "\n",
      "Shape of dataframe after removing the low variance columns : (3303, 9)\n"
     ]
    }
   ],
   "source": [
    "# Dropping Low Variance attributes from X_train and X_test.\n",
    "\n",
    "X_train = X_train.drop(low_var_cols, axis=1)\n",
    "\n",
    "X_test = X_test.drop(low_var_cols, axis=1)\n",
    "\n",
    "print(f\"Shape of dataframe after removing the low variance columns : {X_train.shape}\")\n",
    "print()\n",
    "print(f\"Shape of dataframe after removing the low variance columns : {X_test.shape}\")"
   ]
  },
  {
   "cell_type": "markdown",
   "id": "2c5b0253",
   "metadata": {},
   "source": [
    "----\n",
    "\n",
    "<b> [Back to Content](#Content) </b>"
   ]
  },
  {
   "cell_type": "markdown",
   "id": "f6da09e0",
   "metadata": {},
   "source": [
    "### 6.2 Forward Elimination"
   ]
  },
  {
   "cell_type": "code",
   "execution_count": 71,
   "id": "9441bc62",
   "metadata": {},
   "outputs": [],
   "source": [
    "# Calling the linear regression model for model1.\n",
    "\n",
    "lreg = LinearRegression()\n",
    "sfs1 = sfs(lreg, k_features='best', forward=True, verbose=2, scoring='r2')"
   ]
  },
  {
   "cell_type": "code",
   "execution_count": 72,
   "id": "87ad32db",
   "metadata": {},
   "outputs": [
    {
     "name": "stderr",
     "output_type": "stream",
     "text": [
      "\n",
      "[2024-10-04 00:31:55] Features: 1/9 -- score: 0.13358219091308196\n",
      "[2024-10-04 00:31:56] Features: 2/9 -- score: 0.2108817581413855\n",
      "[2024-10-04 00:31:56] Features: 3/9 -- score: 0.2529012159823446\n",
      "[2024-10-04 00:31:56] Features: 4/9 -- score: 0.26210417504044753\n",
      "[2024-10-04 00:31:56] Features: 5/9 -- score: 0.2801422036210269\n",
      "[2024-10-04 00:31:56] Features: 6/9 -- score: 0.28231624190320764\n",
      "[2024-10-04 00:31:56] Features: 7/9 -- score: 0.2842443886888044\n",
      "[2024-10-04 00:31:56] Features: 8/9 -- score: 0.2853028728997509\n",
      "[2024-10-04 00:31:56] Features: 9/9 -- score: 0.2852502250063703"
     ]
    }
   ],
   "source": [
    "# Fit the Sequential Feature Selector.\n",
    "\n",
    "sfs1 = sfs1.fit(X_train, y_train)"
   ]
  },
  {
   "cell_type": "code",
   "execution_count": 73,
   "id": "cc8c17c7",
   "metadata": {},
   "outputs": [
    {
     "data": {
      "text/plain": [
       "['age',\n",
       " 'LOR',\n",
       " 'turnover_A',\n",
       " 'turnover_B',\n",
       " 'prod_A_1',\n",
       " 'type_A_3',\n",
       " 'prod_B_1',\n",
       " 'type_B_3']"
      ]
     },
     "execution_count": 73,
     "metadata": {},
     "output_type": "execute_result"
    }
   ],
   "source": [
    "# Extracting the names of the selected features after the fitting process.\n",
    "\n",
    "feat_names1 = list(sfs1.k_feature_names_)\n",
    "feat_names1"
   ]
  },
  {
   "cell_type": "code",
   "execution_count": 74,
   "id": "44fc6cdf",
   "metadata": {},
   "outputs": [
    {
     "data": {
      "text/plain": [
       "(7705, 8)"
      ]
     },
     "metadata": {},
     "output_type": "display_data"
    },
    {
     "data": {
      "text/plain": [
       "(3303, 8)"
      ]
     },
     "metadata": {},
     "output_type": "display_data"
    }
   ],
   "source": [
    "# Define the selected feature names for separation\n",
    "selected_features = feat_names1\n",
    "\n",
    "# Create a new DataFrame with the selected features\n",
    "X_train_all_best = X_train[selected_features]\n",
    "X_test_all_best = X_test[selected_features]\n",
    "\n",
    "# Display the shape of the new DataFrame to confirm the selection\n",
    "# Print the predicted values\n",
    "display(X_train_all_best.shape)\n",
    "display(X_test_all_best.shape)"
   ]
  },
  {
   "cell_type": "code",
   "execution_count": 75,
   "id": "a68a9db8",
   "metadata": {},
   "outputs": [],
   "source": [
    "# Calling the linear regression model\n",
    "\n",
    "lreg = LinearRegression()\n",
    "sfs2 = sfs(lreg, k_features=6, forward=True, verbose=2, scoring='r2')"
   ]
  },
  {
   "cell_type": "code",
   "execution_count": 76,
   "id": "63216faf",
   "metadata": {},
   "outputs": [
    {
     "name": "stderr",
     "output_type": "stream",
     "text": [
      "\n",
      "[2024-10-04 00:38:05] Features: 1/6 -- score: 0.13358219091308196\n",
      "[2024-10-04 00:38:05] Features: 2/6 -- score: 0.2108817581413855\n",
      "[2024-10-04 00:38:05] Features: 3/6 -- score: 0.2529012159823446\n",
      "[2024-10-04 00:38:05] Features: 4/6 -- score: 0.26210417504044753\n",
      "[2024-10-04 00:38:05] Features: 5/6 -- score: 0.2801422036210269\n",
      "[2024-10-04 00:38:05] Features: 6/6 -- score: 0.28231624190320764"
     ]
    }
   ],
   "source": [
    "# Fit the Sequential Feature Selector.\n",
    "\n",
    "sfs2 = sfs2.fit(X_train, y_train)"
   ]
  },
  {
   "cell_type": "code",
   "execution_count": 77,
   "id": "98a5a525",
   "metadata": {},
   "outputs": [
    {
     "data": {
      "text/plain": [
       "['age', 'turnover_A', 'turnover_B', 'prod_A_1', 'prod_B_1', 'type_B_3']"
      ]
     },
     "execution_count": 77,
     "metadata": {},
     "output_type": "execute_result"
    }
   ],
   "source": [
    "# Extracting the names of the selected features after the fitting process.\n",
    "\n",
    "feat_names2 = list(sfs2.k_feature_names_)\n",
    "feat_names2"
   ]
  },
  {
   "cell_type": "code",
   "execution_count": 78,
   "id": "3d6ebab3",
   "metadata": {},
   "outputs": [
    {
     "data": {
      "text/plain": [
       "(7705, 6)"
      ]
     },
     "metadata": {},
     "output_type": "display_data"
    },
    {
     "data": {
      "text/plain": [
       "(3303, 6)"
      ]
     },
     "metadata": {},
     "output_type": "display_data"
    }
   ],
   "source": [
    "# Define the selected feature names for separation\n",
    "selected_features = feat_names2\n",
    "\n",
    "# Create a new DataFrame with the selected features\n",
    "X_train_6_best = X_train[selected_features]\n",
    "X_test_6_best = X_test[selected_features]\n",
    "\n",
    "# Display the shape of the new DataFrame to confirm the selection\n",
    "# Print the predicted values\n",
    "display(X_train_6_best.shape)\n",
    "display(X_test_6_best.shape)"
   ]
  },
  {
   "cell_type": "code",
   "execution_count": 79,
   "id": "8978f7c3",
   "metadata": {},
   "outputs": [],
   "source": [
    "# Calling the linear regression model\n",
    "\n",
    "lreg = LinearRegression()\n",
    "sfs3 = sfs(lreg, k_features=4, forward=True, verbose=2, scoring='r2')"
   ]
  },
  {
   "cell_type": "code",
   "execution_count": 80,
   "id": "384413ac",
   "metadata": {},
   "outputs": [
    {
     "name": "stderr",
     "output_type": "stream",
     "text": [
      "\n",
      "[2024-10-04 00:38:06] Features: 1/4 -- score: 0.13358219091308196\n",
      "[2024-10-04 00:38:06] Features: 2/4 -- score: 0.2108817581413855\n",
      "[2024-10-04 00:38:06] Features: 3/4 -- score: 0.2529012159823446\n",
      "[2024-10-04 00:38:06] Features: 4/4 -- score: 0.26210417504044753"
     ]
    }
   ],
   "source": [
    "# Fit the Sequential Feature Selector.\n",
    "\n",
    "sfs3 = sfs3.fit(X_train, y_train)"
   ]
  },
  {
   "cell_type": "code",
   "execution_count": 81,
   "id": "4a937a41",
   "metadata": {},
   "outputs": [
    {
     "data": {
      "text/plain": [
       "['age', 'turnover_A', 'prod_B_1', 'type_B_3']"
      ]
     },
     "execution_count": 81,
     "metadata": {},
     "output_type": "execute_result"
    }
   ],
   "source": [
    "# Extracting the names of the selected features after the fitting process.\n",
    "\n",
    "feat_names3 = list(sfs3.k_feature_names_)\n",
    "feat_names3"
   ]
  },
  {
   "cell_type": "code",
   "execution_count": 82,
   "id": "b9f1b2c5",
   "metadata": {},
   "outputs": [
    {
     "data": {
      "text/plain": [
       "(7705, 4)"
      ]
     },
     "metadata": {},
     "output_type": "display_data"
    },
    {
     "data": {
      "text/plain": [
       "(3303, 4)"
      ]
     },
     "metadata": {},
     "output_type": "display_data"
    }
   ],
   "source": [
    "# Define the selected feature names for separation\n",
    "selected_features = feat_names3\n",
    "\n",
    "# Create a new DataFrame with the selected features\n",
    "X_train_4_best = X_train[selected_features]\n",
    "X_test_4_best = X_test[selected_features]\n",
    "\n",
    "# Display the shape of the new DataFrame to confirm the selection\n",
    "# Print the predicted values\n",
    "display(X_train_4_best.shape)\n",
    "display(X_test_4_best.shape)"
   ]
  },
  {
   "cell_type": "code",
   "execution_count": 83,
   "id": "703566e3",
   "metadata": {},
   "outputs": [
    {
     "name": "stdout",
     "output_type": "stream",
     "text": [
      "All best features Training dataset shapes ->  X: (7705, 8), y: (7705,)\n",
      "All best features Testing dataset shapes  ->  X: (3303, 8), y: (3303,)\n",
      "\n",
      "Top 6 best features Training dataset shapes ->  X: (7705, 6), y: (7705,)\n",
      "Top 6 best features Testing dataset shapes  ->  X: (3303, 6), y: (3303,)\n",
      "\n",
      "Top 4 best features Training dataset shapes ->  X: (7705, 4), y: (7705,)\n",
      "Top 4 best features Testing dataset shapes  ->  X: (3303, 4), y: (3303,)\n"
     ]
    }
   ],
   "source": [
    "# Checking the shapes of the final resulting datasets before training the models.\n",
    "\n",
    "print(\"All best features Training dataset shapes ->  X: {}, y: {}\".format(X_train_all_best.shape, y_train.shape))\n",
    "print(\"All best features Testing dataset shapes  ->  X: {}, y: {}\".format(X_test_all_best.shape, y_test.shape))\n",
    "\n",
    "print()\n",
    "\n",
    "print(\"Top 6 best features Training dataset shapes ->  X: {}, y: {}\".format(X_train_6_best.shape, y_train.shape))\n",
    "print(\"Top 6 best features Testing dataset shapes  ->  X: {}, y: {}\".format(X_test_6_best.shape, y_test.shape))\n",
    "\n",
    "print()\n",
    "\n",
    "print(\"Top 4 best features Training dataset shapes ->  X: {}, y: {}\".format(X_train_4_best.shape, y_train.shape))\n",
    "print(\"Top 4 best features Testing dataset shapes  ->  X: {}, y: {}\".format(X_test_4_best.shape, y_test.shape))"
   ]
  },
  {
   "cell_type": "markdown",
   "id": "6e7c8991",
   "metadata": {},
   "source": [
    "----\n",
    "\n",
    "<b> [Back to Content](#Content) </b>"
   ]
  },
  {
   "cell_type": "markdown",
   "id": "f3e98308",
   "metadata": {},
   "source": [
    "## 7. Binary Logistic Regression Models"
   ]
  },
  {
   "cell_type": "code",
   "execution_count": null,
   "id": "caae179a",
   "metadata": {},
   "outputs": [],
   "source": []
  },
  {
   "cell_type": "markdown",
   "id": "11f57497",
   "metadata": {},
   "source": [
    "----\n",
    "\n",
    "<b> [Back to Content](#Content) </b>"
   ]
  },
  {
   "cell_type": "markdown",
   "id": "553b7ab9",
   "metadata": {},
   "source": [
    "### 7.1 1<sup>st</sup> Model"
   ]
  },
  {
   "cell_type": "code",
   "execution_count": null,
   "id": "de001cbc",
   "metadata": {},
   "outputs": [],
   "source": []
  },
  {
   "cell_type": "markdown",
   "id": "b1428a43",
   "metadata": {},
   "source": [
    "----\n",
    "\n",
    "<b> [Back to Content](#Content) </b>"
   ]
  },
  {
   "cell_type": "markdown",
   "id": "decd8d4e",
   "metadata": {},
   "source": [
    "### 7.2 2<sup>nd</sup> Model"
   ]
  },
  {
   "cell_type": "code",
   "execution_count": null,
   "id": "10f3f092",
   "metadata": {},
   "outputs": [],
   "source": []
  },
  {
   "cell_type": "markdown",
   "id": "8292b31a",
   "metadata": {},
   "source": [
    "----\n",
    "\n",
    "<b> [Back to Content](#Content) </b>"
   ]
  },
  {
   "cell_type": "markdown",
   "id": "3a1ea3f0",
   "metadata": {},
   "source": [
    "### 7.3 3<sup>rd</sup> Model"
   ]
  },
  {
   "cell_type": "code",
   "execution_count": null,
   "id": "3e8f5adb",
   "metadata": {},
   "outputs": [],
   "source": []
  },
  {
   "cell_type": "markdown",
   "id": "e954399d",
   "metadata": {},
   "source": [
    "----\n",
    "\n",
    "<b> [Back to Content](#Content) </b>"
   ]
  },
  {
   "cell_type": "markdown",
   "id": "555abda6",
   "metadata": {},
   "source": [
    "## 8. Model Selection"
   ]
  },
  {
   "cell_type": "code",
   "execution_count": null,
   "id": "0cb25d2e",
   "metadata": {},
   "outputs": [],
   "source": []
  },
  {
   "cell_type": "markdown",
   "id": "1b04ad3b",
   "metadata": {},
   "source": [
    "----\n",
    "\n",
    "<b> [Back to Content](#Content) </b>"
   ]
  },
  {
   "cell_type": "markdown",
   "id": "ef8a8cef",
   "metadata": {},
   "source": [
    "## Conclusion"
   ]
  },
  {
   "cell_type": "markdown",
   "id": "dee11560",
   "metadata": {},
   "source": []
  },
  {
   "cell_type": "markdown",
   "id": "f5d69bf3",
   "metadata": {},
   "source": [
    "<b> [TOP⬆️](#Implementing-and-Evaluating-a-Series-of-Regression-Models) </b>\n",
    "\n",
    "---\n",
    "<h3><center>THE END</center></h3>\n",
    "\n",
    "==================================================================================================================="
   ]
  }
 ],
 "metadata": {
  "kernelspec": {
   "display_name": "Python 3",
   "language": "python",
   "name": "python3"
  },
  "language_info": {
   "codemirror_mode": {
    "name": "ipython",
    "version": 3
   },
   "file_extension": ".py",
   "mimetype": "text/x-python",
   "name": "python",
   "nbconvert_exporter": "python",
   "pygments_lexer": "ipython3",
   "version": "3.8.8"
  }
 },
 "nbformat": 4,
 "nbformat_minor": 5
}
