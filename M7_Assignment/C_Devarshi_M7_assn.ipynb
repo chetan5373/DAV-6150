{
 "cells": [
  {
   "cell_type": "markdown",
   "id": "d0b15771",
   "metadata": {},
   "source": [
    "### <CENTER><h1><u>Binary Logistic Regression</u></CENTER></h1>\n",
    "\n",
    "<br>\n",
    "\n",
    "<CENTER>(TEAM CONTRIBUTORS: SHASHANK SHEKHAR, BITTERLEIN KONNOTH BIJU, CHAITANYA DEVARSHI)</CENTER>\n",
    "\n",
    "-------\n",
    "-------"
   ]
  },
  {
   "cell_type": "markdown",
   "id": "8eb4f209",
   "metadata": {},
   "source": [
    "<h2><u>Content</u></h2>\n",
    "\n",
    "1. [Introduction](#1.-Introduction)\n",
    "\n",
    "  1.1 [Problem Statement](#1.1-Problem-Statement)\n",
    "  \n",
    "  1.2 [Methodology](#1.2-Methodology)\n",
    "  \n",
    "\n",
    "2. [Data Loading & Preparation](#2.-Data-Loading-&-Preparation)\n",
    "\n",
    "  2.1 [Read the Data](#2.1-Read-the-Data)\n",
    "  \n",
    "\n",
    "3. [EDA](#3.-Exploratory-Data-Analysis)\n",
    "\n",
    "  3.1 [Missing Values](#3.1-Missing-Values)\n",
    "  \n",
    "  3.2 [Univariate](#3.2-Univariate-Analysis)\n",
    "  \n",
    "   - 3.2.1 [For numeric features](#3.2.1-Univariate-Analysis-for-numeric-features)\n",
    "     \n",
    "   - 3.2.2 [For Binary features](#3.2.2-Univariate-Analysis-for-Binary-features)\n",
    "     \n",
    "  3.3 [Bivariate](#3.3-Bivariate-Analysis)\n",
    "  \n",
    "  3.4 [Multivariate](#3.4-Multivariate-Analysis)\n",
    "\n",
    "\n",
    "4. [Data Cleaning](#4.-Data-Cleaning)\n",
    "\n",
    "  4.1 [Handling Skewness](#4.1-Handling-Skewness)\n",
    "  \n",
    "  4.2 [Handling Outliers](#4.2-Handling-Outliers)\n",
    "\n",
    "\n",
    "5. [Prepped Data Review](#5.-Prepped-Data-Review)\n",
    "\n",
    "\n",
    "6. [Dimensionality Reduction](#6.-Dimensionality-Reduction)\n",
    "\n",
    "  6.1 [Variance Threshold](#6.1-Variance-Threshold)\n",
    "  \n",
    "  6.2 [Backward Elimination](#6.2-Backward-Elimination)\n",
    "\n",
    "\n",
    "7. [Binary Logistic Regression Models](#7.-Binary-Logistic-Regression-Models)\n",
    "\n",
    "  7.1 [1<sup>st</sup> Model](#7.1-1st-Model)\n",
    "  \n",
    "  7.2 [2<sup>nd</sup> Model](#7.2-2nd-Model)\n",
    "  \n",
    "  7.3 [3<sup>rd</sup> Model](#7.3-3rd-Model)\n",
    "  \n",
    "  \n",
    "8. [Model Selection](#8.-Model-Selection)\n",
    "\n",
    "\n",
    "9. [Conclusion](#Conclusion)\n"
   ]
  },
  {
   "cell_type": "markdown",
   "id": "169aafd8",
   "metadata": {},
   "source": [
    "==================================================================================================================="
   ]
  },
  {
   "cell_type": "markdown",
   "id": "9228ca2b",
   "metadata": {},
   "source": [
    "## 1. Introduction"
   ]
  },
  {
   "cell_type": "code",
   "execution_count": null,
   "id": "0ef454e0",
   "metadata": {},
   "outputs": [],
   "source": []
  },
  {
   "cell_type": "markdown",
   "id": "d64c4028",
   "metadata": {},
   "source": [
    "----\n",
    "\n",
    "<b> [Back to Content](#Content) </b>"
   ]
  },
  {
   "cell_type": "markdown",
   "id": "604bcb5b",
   "metadata": {},
   "source": [
    "## 1.1 Problem Statement"
   ]
  },
  {
   "cell_type": "code",
   "execution_count": 2,
   "id": "48bdc3f4",
   "metadata": {},
   "outputs": [
    {
     "name": "stdout",
     "output_type": "stream",
     "text": [
      "Hiiiii\n"
     ]
    }
   ],
   "source": [
    "print('Hiiiii')"
   ]
  },
  {
   "cell_type": "markdown",
   "id": "9b79564c",
   "metadata": {},
   "source": [
    "----\n",
    "\n",
    "<b> [Back to Content](#Content) </b>"
   ]
  },
  {
   "cell_type": "markdown",
   "id": "a9d6d87f",
   "metadata": {},
   "source": [
    "## 1.2 Methodology"
   ]
  },
  {
   "cell_type": "markdown",
   "id": "108c06f9",
   "metadata": {},
   "source": [
    "<h3><u> To address this assignment, we will follow these below steps :- </u></h3>\n",
    "\n",
    "1. **Load the dataset**: Upload the `M7_Data.csv` file from the DAV 6150 Github Repository.\n",
    "\n",
    "2. **Read the dataset**: Using a Jupyter Notebook, read the dataset from the respective Github repository and load it into a Pandas DataFrame.\n",
    "\n",
    "3. **Perform EDA**: Carry out Exploratory Data Analysis to examine the dataset's structure and understand the variables.\n",
    "\n",
    "4. **Identify and rectify issues**: Detect data quality and integrity issues such as missing values or outliers during EDA, and take appropriate actions to address them.\n",
    "\n",
    "5. **Prepped Data Review**: Here, we will cross check every thing and will make sure our data is ready for further analysis.\n",
    "\n",
    "6. **Feature Scale, Selection & Dimensionality Reduction**: Applying feature selection techniques and perform dimensionality reduction to prepare the data for modeling.\n",
    "\n",
    "7. **Binary Logistic Regression Modelling**: We will make 3 different models of Binary Logistic Regression.\n",
    "\n",
    "8. **Models Selection**: Among the 3 different models, we will make our judgement on selecting one model.\n",
    "\n",
    "9. **Conclusion**: We will conclude our work."
   ]
  },
  {
   "cell_type": "markdown",
   "id": "f4d9b98a",
   "metadata": {},
   "source": [
    "----\n",
    "\n",
    "<b> [Back to Content](#Content) </b>"
   ]
  },
  {
   "cell_type": "markdown",
   "id": "13641919",
   "metadata": {},
   "source": [
    "## 2. Data Loading & Preparation"
   ]
  },
  {
   "cell_type": "code",
   "execution_count": 1,
   "id": "22858488",
   "metadata": {},
   "outputs": [],
   "source": [
    "# Importing basic Libraries.\n",
    "\n",
    "import pandas as pd \n",
    "import numpy as np\n",
    "\n",
    "# Importing Libraries for statistical analysis.\n",
    "\n",
    "import statsmodels.api as sm\n",
    "from scipy import stats\n",
    "\n",
    "# Importing Libraries for machine learning models.\n",
    "\n",
    "import sklearn\n",
    "from sklearn import metrics\n",
    "import imblearn\n",
    "from imblearn.metrics import specificity_score\n",
    "from sklearn.metrics import roc_auc_score, roc_curve, auc, classification_report\n",
    "from sklearn.feature_selection import VarianceThreshold\n",
    "from sklearn.linear_model import PoissonRegressor\n",
    "\n",
    "# Importing Libraries for plotting the graphs.\n",
    "\n",
    "import matplotlib.pyplot as plt\n",
    "import seaborn as sns\n",
    "import plotly.express as px\n",
    "%matplotlib inline\n",
    "\n",
    "# Importing Libraries for Standarising and Normalising.\n",
    "\n",
    "from sklearn.preprocessing import StandardScaler\n",
    "from sklearn.preprocessing import MinMaxScaler\n",
    "\n",
    "# Import Library for PCA\n",
    "\n",
    "from sklearn.decomposition import PCA\n",
    "\n",
    "# Import missingno library for checking on missing values.\n",
    "\n",
    "import missingno as msno\n",
    "\n",
    "# Importing train_test_split .\n",
    "\n",
    "from sklearn.model_selection import train_test_split, cross_val_score, KFold\n",
    "\n",
    "# Importing Library for imputing null values.\n",
    "\n",
    "from sklearn.impute import KNNImputer\n",
    "\n",
    "# Importing filterwarnings from warnings to ignore warnings.\n",
    "\n",
    "import warnings\n",
    "warnings.filterwarnings(\"ignore\")"
   ]
  },
  {
   "cell_type": "markdown",
   "id": "cc26aaf1",
   "metadata": {},
   "source": [
    "----\n",
    "\n",
    "<b> [Back to Content](#Content) </b>"
   ]
  },
  {
   "cell_type": "markdown",
   "id": "83a87a00",
   "metadata": {},
   "source": [
    "### 2.1 Read the Data"
   ]
  },
  {
   "cell_type": "code",
   "execution_count": 2,
   "id": "62cc46d3",
   "metadata": {},
   "outputs": [
    {
     "data": {
      "text/html": [
       "<div>\n",
       "<style scoped>\n",
       "    .dataframe tbody tr th:only-of-type {\n",
       "        vertical-align: middle;\n",
       "    }\n",
       "\n",
       "    .dataframe tbody tr th {\n",
       "        vertical-align: top;\n",
       "    }\n",
       "\n",
       "    .dataframe thead th {\n",
       "        text-align: right;\n",
       "    }\n",
       "</style>\n",
       "<table border=\"1\" class=\"dataframe\">\n",
       "  <thead>\n",
       "    <tr style=\"text-align: right;\">\n",
       "      <th></th>\n",
       "      <th>TARGET</th>\n",
       "      <th>loyalty</th>\n",
       "      <th>ID</th>\n",
       "      <th>age</th>\n",
       "      <th>city</th>\n",
       "      <th>LOR</th>\n",
       "      <th>prod_A</th>\n",
       "      <th>type_A</th>\n",
       "      <th>type_B</th>\n",
       "      <th>prod_B</th>\n",
       "      <th>turnover_A</th>\n",
       "      <th>turnover_B</th>\n",
       "      <th>contract</th>\n",
       "      <th>age_P</th>\n",
       "      <th>lor_M</th>\n",
       "    </tr>\n",
       "  </thead>\n",
       "  <tbody>\n",
       "    <tr>\n",
       "      <th>0</th>\n",
       "      <td>Y</td>\n",
       "      <td>99</td>\n",
       "      <td>77</td>\n",
       "      <td>66</td>\n",
       "      <td>2</td>\n",
       "      <td>0</td>\n",
       "      <td>0</td>\n",
       "      <td>0</td>\n",
       "      <td>0</td>\n",
       "      <td>0</td>\n",
       "      <td>333.561114</td>\n",
       "      <td>264.721010</td>\n",
       "      <td>2</td>\n",
       "      <td>66</td>\n",
       "      <td>3</td>\n",
       "    </tr>\n",
       "    <tr>\n",
       "      <th>1</th>\n",
       "      <td>Y</td>\n",
       "      <td>1</td>\n",
       "      <td>159</td>\n",
       "      <td>45</td>\n",
       "      <td>2</td>\n",
       "      <td>3</td>\n",
       "      <td>1</td>\n",
       "      <td>3</td>\n",
       "      <td>3</td>\n",
       "      <td>1</td>\n",
       "      <td>394.735699</td>\n",
       "      <td>284.904978</td>\n",
       "      <td>2</td>\n",
       "      <td>45</td>\n",
       "      <td>39</td>\n",
       "    </tr>\n",
       "    <tr>\n",
       "      <th>2</th>\n",
       "      <td>Y</td>\n",
       "      <td>1</td>\n",
       "      <td>220</td>\n",
       "      <td>42</td>\n",
       "      <td>2</td>\n",
       "      <td>2</td>\n",
       "      <td>1</td>\n",
       "      <td>3</td>\n",
       "      <td>6</td>\n",
       "      <td>1</td>\n",
       "      <td>342.180990</td>\n",
       "      <td>1175.589721</td>\n",
       "      <td>2</td>\n",
       "      <td>42</td>\n",
       "      <td>27</td>\n",
       "    </tr>\n",
       "    <tr>\n",
       "      <th>3</th>\n",
       "      <td>Y</td>\n",
       "      <td>99</td>\n",
       "      <td>303</td>\n",
       "      <td>31</td>\n",
       "      <td>2</td>\n",
       "      <td>0</td>\n",
       "      <td>0</td>\n",
       "      <td>0</td>\n",
       "      <td>0</td>\n",
       "      <td>0</td>\n",
       "      <td>453.757916</td>\n",
       "      <td>242.341754</td>\n",
       "      <td>2</td>\n",
       "      <td>31</td>\n",
       "      <td>3</td>\n",
       "    </tr>\n",
       "    <tr>\n",
       "      <th>4</th>\n",
       "      <td>Y</td>\n",
       "      <td>99</td>\n",
       "      <td>306</td>\n",
       "      <td>62</td>\n",
       "      <td>2</td>\n",
       "      <td>0</td>\n",
       "      <td>0</td>\n",
       "      <td>0</td>\n",
       "      <td>0</td>\n",
       "      <td>0</td>\n",
       "      <td>384.577469</td>\n",
       "      <td>287.008370</td>\n",
       "      <td>2</td>\n",
       "      <td>62</td>\n",
       "      <td>3</td>\n",
       "    </tr>\n",
       "  </tbody>\n",
       "</table>\n",
       "</div>"
      ],
      "text/plain": [
       "  TARGET  loyalty   ID  age  city  LOR  prod_A  type_A  type_B  prod_B  \\\n",
       "0      Y       99   77   66     2    0       0       0       0       0   \n",
       "1      Y        1  159   45     2    3       1       3       3       1   \n",
       "2      Y        1  220   42     2    2       1       3       6       1   \n",
       "3      Y       99  303   31     2    0       0       0       0       0   \n",
       "4      Y       99  306   62     2    0       0       0       0       0   \n",
       "\n",
       "   turnover_A   turnover_B  contract  age_P  lor_M  \n",
       "0  333.561114   264.721010         2     66      3  \n",
       "1  394.735699   284.904978         2     45     39  \n",
       "2  342.180990  1175.589721         2     42     27  \n",
       "3  453.757916   242.341754         2     31      3  \n",
       "4  384.577469   287.008370         2     62      3  "
      ]
     },
     "execution_count": 2,
     "metadata": {},
     "output_type": "execute_result"
    }
   ],
   "source": [
    "# Loading the data from the github repository DAV-6150.\n",
    "\n",
    "insurance_data = pd.read_csv(\"https://raw.githubusercontent.com/chetan5373/DAV-6150/refs/heads/main/M7_Assignment/M7_Data.csv\")\n",
    "df = insurance_data.copy()\n",
    "df.head()"
   ]
  },
  {
   "cell_type": "code",
   "execution_count": 3,
   "id": "a0374d9c",
   "metadata": {},
   "outputs": [
    {
     "data": {
      "text/plain": [
       "(14016, 15)"
      ]
     },
     "execution_count": 3,
     "metadata": {},
     "output_type": "execute_result"
    }
   ],
   "source": [
    "# Identifing how many rows and columns the dataframe consist of.\n",
    "\n",
    "df.shape"
   ]
  },
  {
   "cell_type": "code",
   "execution_count": 4,
   "id": "ea7ed323",
   "metadata": {},
   "outputs": [
    {
     "name": "stdout",
     "output_type": "stream",
     "text": [
      "<class 'pandas.core.frame.DataFrame'>\n",
      "RangeIndex: 14016 entries, 0 to 14015\n",
      "Data columns (total 15 columns):\n",
      " #   Column      Non-Null Count  Dtype  \n",
      "---  ------      --------------  -----  \n",
      " 0   TARGET      14016 non-null  object \n",
      " 1   loyalty     14016 non-null  int64  \n",
      " 2   ID          14016 non-null  int64  \n",
      " 3   age         14016 non-null  int64  \n",
      " 4   city        14016 non-null  int64  \n",
      " 5   LOR         14016 non-null  int64  \n",
      " 6   prod_A      14016 non-null  int64  \n",
      " 7   type_A      14016 non-null  int64  \n",
      " 8   type_B      14016 non-null  int64  \n",
      " 9   prod_B      14016 non-null  int64  \n",
      " 10  turnover_A  14016 non-null  float64\n",
      " 11  turnover_B  14016 non-null  float64\n",
      " 12  contract    14016 non-null  int64  \n",
      " 13  age_P       14016 non-null  int64  \n",
      " 14  lor_M       14016 non-null  int64  \n",
      "dtypes: float64(2), int64(12), object(1)\n",
      "memory usage: 1.6+ MB\n"
     ]
    }
   ],
   "source": [
    "# Getting a concise summary of the DataFrame .\n",
    "\n",
    "df.info()"
   ]
  },
  {
   "cell_type": "markdown",
   "id": "3e537241",
   "metadata": {},
   "source": [
    "**Dataset observation:**\n",
    "\n",
    "\n",
    "\n",
    "- Index ranges from 0-14015.\n",
    "\n",
    "- Total number of attributes are 15.\n",
    "\n",
    "- Where, 12 are 'int', 2 are 'float' and 1 is 'object'.\n",
    "\n",
    "- As of now there is no any missing values in any columns."
   ]
  },
  {
   "cell_type": "markdown",
   "id": "8c179ea8",
   "metadata": {},
   "source": [
    "----\n",
    "\n",
    "<b> [Back to Content](#Content) </b>"
   ]
  },
  {
   "cell_type": "markdown",
   "id": "fc136515",
   "metadata": {},
   "source": [
    "## 3. Exploratory Data Analysis"
   ]
  },
  {
   "cell_type": "markdown",
   "id": "65bd3323",
   "metadata": {},
   "source": [
    "- Analyzing a data set for purposes of summarizing its characteristics, identifying relationships between its attributes, and discovering patterns, trends, outliers, missing values and invalid values within the data. "
   ]
  },
  {
   "cell_type": "code",
   "execution_count": 5,
   "id": "21c36356",
   "metadata": {},
   "outputs": [
    {
     "data": {
      "text/plain": [
       "Index(['TARGET', 'loyalty', 'ID', 'age', 'city', 'LOR', 'prod_A', 'type_A',\n",
       "       'type_B', 'prod_B', 'turnover_A', 'turnover_B', 'contract', 'age_P',\n",
       "       'lor_M'],\n",
       "      dtype='object')"
      ]
     },
     "execution_count": 5,
     "metadata": {},
     "output_type": "execute_result"
    }
   ],
   "source": [
    "# Checking columns names.\n",
    "\n",
    "df.columns"
   ]
  },
  {
   "cell_type": "markdown",
   "id": "16c3c2bd",
   "metadata": {},
   "source": [
    "----\n",
    "\n",
    "<b> [Back to Content](#Content) </b>"
   ]
  },
  {
   "cell_type": "markdown",
   "id": "22aec04b",
   "metadata": {},
   "source": [
    "### 3.1 Missing Values"
   ]
  },
  {
   "cell_type": "code",
   "execution_count": 6,
   "id": "416fe7ac",
   "metadata": {},
   "outputs": [
    {
     "data": {
      "text/plain": [
       "TARGET        0\n",
       "loyalty       0\n",
       "ID            0\n",
       "age           0\n",
       "city          0\n",
       "LOR           0\n",
       "prod_A        0\n",
       "type_A        0\n",
       "type_B        0\n",
       "prod_B        0\n",
       "turnover_A    0\n",
       "turnover_B    0\n",
       "contract      0\n",
       "age_P         0\n",
       "lor_M         0\n",
       "dtype: int64"
      ]
     },
     "execution_count": 6,
     "metadata": {},
     "output_type": "execute_result"
    }
   ],
   "source": [
    "# Checking for null values.\n",
    "\n",
    "df.isnull().sum()"
   ]
  },
  {
   "cell_type": "markdown",
   "id": "11209bad",
   "metadata": {},
   "source": [
    "- As of now there is no nulls are present."
   ]
  },
  {
   "cell_type": "code",
   "execution_count": 12,
   "id": "5bb53216",
   "metadata": {},
   "outputs": [
    {
     "data": {
      "text/plain": [
       "3008"
      ]
     },
     "execution_count": 12,
     "metadata": {},
     "output_type": "execute_result"
    }
   ],
   "source": [
    "# Checking for duplicate values.\n",
    "\n",
    "df.ID.duplicated().sum()"
   ]
  },
  {
   "cell_type": "markdown",
   "id": "7e4e00ec",
   "metadata": {},
   "source": [
    "- "
   ]
  },
  {
   "cell_type": "markdown",
   "id": "166d04c0",
   "metadata": {},
   "source": [
    "----\n",
    "\n",
    "<b> [Back to Content](#Content) </b>"
   ]
  },
  {
   "cell_type": "markdown",
   "id": "cdbf291d",
   "metadata": {},
   "source": [
    "### 3.2 Univariate Analysis"
   ]
  },
  {
   "cell_type": "code",
   "execution_count": null,
   "id": "8089ccad",
   "metadata": {},
   "outputs": [],
   "source": []
  },
  {
   "cell_type": "markdown",
   "id": "35388784",
   "metadata": {},
   "source": [
    "----\n",
    "\n",
    "<b> [Back to Content](#Content) </b>"
   ]
  },
  {
   "cell_type": "markdown",
   "id": "6c6a3716",
   "metadata": {},
   "source": [
    "### 3.2.1 For Numeric Features"
   ]
  },
  {
   "cell_type": "code",
   "execution_count": null,
   "id": "1aa512cc",
   "metadata": {},
   "outputs": [],
   "source": []
  },
  {
   "cell_type": "markdown",
   "id": "2d1729a8",
   "metadata": {},
   "source": [
    "----\n",
    "\n",
    "<b> [Back to Content](#Content) </b>"
   ]
  },
  {
   "cell_type": "markdown",
   "id": "c02fab05",
   "metadata": {},
   "source": [
    "### 3.2.2 For Categorical Features"
   ]
  },
  {
   "cell_type": "code",
   "execution_count": null,
   "id": "5adbd1d0",
   "metadata": {},
   "outputs": [],
   "source": []
  },
  {
   "cell_type": "markdown",
   "id": "55b404d3",
   "metadata": {},
   "source": [
    "----\n",
    "\n",
    "<b> [Back to Content](#Content) </b>"
   ]
  },
  {
   "cell_type": "markdown",
   "id": "78462a22",
   "metadata": {},
   "source": [
    "### 3.3 Bivariate Analysis"
   ]
  },
  {
   "cell_type": "code",
   "execution_count": null,
   "id": "1cb341d2",
   "metadata": {},
   "outputs": [],
   "source": []
  },
  {
   "cell_type": "markdown",
   "id": "b8b8b2a3",
   "metadata": {},
   "source": [
    "----\n",
    "\n",
    "<b> [Back to Content](#Content) </b>"
   ]
  },
  {
   "cell_type": "markdown",
   "id": "44c7b20e",
   "metadata": {},
   "source": [
    "### 3.4 Multivariate Analysis"
   ]
  },
  {
   "cell_type": "code",
   "execution_count": null,
   "id": "6bc8d2f0",
   "metadata": {},
   "outputs": [],
   "source": []
  },
  {
   "cell_type": "markdown",
   "id": "f855a40d",
   "metadata": {},
   "source": [
    "----\n",
    "\n",
    "<b> [Back to Content](#Content) </b>"
   ]
  },
  {
   "cell_type": "markdown",
   "id": "42c6445c",
   "metadata": {},
   "source": [
    "## 4. Data Cleaning"
   ]
  },
  {
   "cell_type": "code",
   "execution_count": null,
   "id": "501ad905",
   "metadata": {},
   "outputs": [],
   "source": []
  },
  {
   "cell_type": "markdown",
   "id": "3ea2c346",
   "metadata": {},
   "source": [
    "----\n",
    "\n",
    "<b> [Back to Content](#Content) </b>"
   ]
  },
  {
   "cell_type": "markdown",
   "id": "c81c1c5a",
   "metadata": {},
   "source": [
    "### 4.1 Handling Skewness"
   ]
  },
  {
   "cell_type": "code",
   "execution_count": null,
   "id": "9cb83f1a",
   "metadata": {},
   "outputs": [],
   "source": []
  },
  {
   "cell_type": "markdown",
   "id": "93677596",
   "metadata": {},
   "source": [
    "----\n",
    "\n",
    "<b> [Back to Content](#Content) </b>"
   ]
  },
  {
   "cell_type": "markdown",
   "id": "8b63675e",
   "metadata": {},
   "source": [
    "### 4.2 Handling Outliers"
   ]
  },
  {
   "cell_type": "code",
   "execution_count": null,
   "id": "d067e5e8",
   "metadata": {},
   "outputs": [],
   "source": []
  },
  {
   "cell_type": "markdown",
   "id": "37e9b35c",
   "metadata": {},
   "source": [
    "----\n",
    "\n",
    "<b> [Back to Content](#Content) </b>"
   ]
  },
  {
   "cell_type": "markdown",
   "id": "836c2ae4",
   "metadata": {},
   "source": [
    "## 5. Prepped Data Review"
   ]
  },
  {
   "cell_type": "code",
   "execution_count": 8,
   "id": "16b7090b",
   "metadata": {},
   "outputs": [],
   "source": [
    "# # Checking every columns has the correct data types.\n",
    "\n",
    "# df_clean.dtypes"
   ]
  },
  {
   "cell_type": "code",
   "execution_count": 9,
   "id": "5eb0cd08",
   "metadata": {},
   "outputs": [],
   "source": [
    "# # Ensure that there are no duplicates.\n",
    "\n",
    "# df_clean.duplicated().sum()"
   ]
  },
  {
   "cell_type": "code",
   "execution_count": 10,
   "id": "f05961a6",
   "metadata": {},
   "outputs": [],
   "source": [
    "# # Ensuring that there is no null value present.\n",
    "\n",
    "# df_clean.isnull().sum()"
   ]
  },
  {
   "cell_type": "code",
   "execution_count": null,
   "id": "ae6e9b42",
   "metadata": {},
   "outputs": [],
   "source": []
  },
  {
   "cell_type": "markdown",
   "id": "04f26dbd",
   "metadata": {},
   "source": [
    "----\n",
    "\n",
    "<b> [Back to Content](#Content) </b>"
   ]
  },
  {
   "cell_type": "markdown",
   "id": "76e8aa6d",
   "metadata": {},
   "source": [
    "#### Ensuring Univariate"
   ]
  },
  {
   "cell_type": "code",
   "execution_count": null,
   "id": "73cde38c",
   "metadata": {},
   "outputs": [],
   "source": []
  },
  {
   "cell_type": "markdown",
   "id": "0fb9ffc7",
   "metadata": {},
   "source": [
    "----\n",
    "\n",
    "<b> [Back to Content](#Content) </b>"
   ]
  },
  {
   "cell_type": "markdown",
   "id": "aaaed7ab",
   "metadata": {},
   "source": [
    "#### Ensuring Bivariate"
   ]
  },
  {
   "cell_type": "code",
   "execution_count": null,
   "id": "69b4ee7b",
   "metadata": {},
   "outputs": [],
   "source": []
  },
  {
   "cell_type": "markdown",
   "id": "653c2189",
   "metadata": {},
   "source": [
    "----\n",
    "\n",
    "<b> [Back to Content](#Content) </b>"
   ]
  },
  {
   "cell_type": "markdown",
   "id": "fdcb7702",
   "metadata": {},
   "source": [
    "#### Multivariate Bivariate"
   ]
  },
  {
   "cell_type": "code",
   "execution_count": null,
   "id": "b34e32fb",
   "metadata": {},
   "outputs": [],
   "source": []
  },
  {
   "cell_type": "markdown",
   "id": "aa92b1ac",
   "metadata": {},
   "source": [
    "----\n",
    "\n",
    "<b> [Back to Content](#Content) </b>"
   ]
  },
  {
   "cell_type": "markdown",
   "id": "ada3a870",
   "metadata": {},
   "source": [
    "## 6. Dimensionality Reduction"
   ]
  },
  {
   "cell_type": "code",
   "execution_count": null,
   "id": "c6127d63",
   "metadata": {},
   "outputs": [],
   "source": []
  },
  {
   "cell_type": "markdown",
   "id": "4bfc5eed",
   "metadata": {},
   "source": [
    "----\n",
    "\n",
    "<b> [Back to Content](#Content) </b>"
   ]
  },
  {
   "cell_type": "markdown",
   "id": "3dc183c9",
   "metadata": {},
   "source": [
    "### 6.1 Variance Threshold"
   ]
  },
  {
   "cell_type": "code",
   "execution_count": null,
   "id": "016b8ba0",
   "metadata": {},
   "outputs": [],
   "source": []
  },
  {
   "cell_type": "markdown",
   "id": "2c5b0253",
   "metadata": {},
   "source": [
    "----\n",
    "\n",
    "<b> [Back to Content](#Content) </b>"
   ]
  },
  {
   "cell_type": "markdown",
   "id": "f6da09e0",
   "metadata": {},
   "source": [
    "### 6.2 Backward Elimination"
   ]
  },
  {
   "cell_type": "code",
   "execution_count": null,
   "id": "9441bc62",
   "metadata": {},
   "outputs": [],
   "source": []
  },
  {
   "cell_type": "markdown",
   "id": "6e7c8991",
   "metadata": {},
   "source": [
    "----\n",
    "\n",
    "<b> [Back to Content](#Content) </b>"
   ]
  },
  {
   "cell_type": "markdown",
   "id": "f3e98308",
   "metadata": {},
   "source": [
    "## 7. Binary Logistic Regression Models"
   ]
  },
  {
   "cell_type": "code",
   "execution_count": null,
   "id": "caae179a",
   "metadata": {},
   "outputs": [],
   "source": []
  },
  {
   "cell_type": "markdown",
   "id": "11f57497",
   "metadata": {},
   "source": [
    "----\n",
    "\n",
    "<b> [Back to Content](#Content) </b>"
   ]
  },
  {
   "cell_type": "markdown",
   "id": "553b7ab9",
   "metadata": {},
   "source": [
    "### 7.1 1<sup>st</sup> Model"
   ]
  },
  {
   "cell_type": "code",
   "execution_count": null,
   "id": "de001cbc",
   "metadata": {},
   "outputs": [],
   "source": []
  },
  {
   "cell_type": "markdown",
   "id": "b1428a43",
   "metadata": {},
   "source": [
    "----\n",
    "\n",
    "<b> [Back to Content](#Content) </b>"
   ]
  },
  {
   "cell_type": "markdown",
   "id": "decd8d4e",
   "metadata": {},
   "source": [
    "### 7.2 2<sup>nd</sup> Model"
   ]
  },
  {
   "cell_type": "code",
   "execution_count": null,
   "id": "10f3f092",
   "metadata": {},
   "outputs": [],
   "source": []
  },
  {
   "cell_type": "markdown",
   "id": "8292b31a",
   "metadata": {},
   "source": [
    "----\n",
    "\n",
    "<b> [Back to Content](#Content) </b>"
   ]
  },
  {
   "cell_type": "markdown",
   "id": "3a1ea3f0",
   "metadata": {},
   "source": [
    "### 7.3 3<sup>rd</sup> Model"
   ]
  },
  {
   "cell_type": "code",
   "execution_count": null,
   "id": "3e8f5adb",
   "metadata": {},
   "outputs": [],
   "source": []
  },
  {
   "cell_type": "markdown",
   "id": "e954399d",
   "metadata": {},
   "source": [
    "----\n",
    "\n",
    "<b> [Back to Content](#Content) </b>"
   ]
  },
  {
   "cell_type": "markdown",
   "id": "555abda6",
   "metadata": {},
   "source": [
    "## 8. Model Selection"
   ]
  },
  {
   "cell_type": "code",
   "execution_count": null,
   "id": "0cb25d2e",
   "metadata": {},
   "outputs": [],
   "source": []
  },
  {
   "cell_type": "markdown",
   "id": "1b04ad3b",
   "metadata": {},
   "source": [
    "----\n",
    "\n",
    "<b> [Back to Content](#Content) </b>"
   ]
  },
  {
   "cell_type": "markdown",
   "id": "ef8a8cef",
   "metadata": {},
   "source": [
    "## Conclusion"
   ]
  },
  {
   "cell_type": "markdown",
   "id": "dee11560",
   "metadata": {},
   "source": []
  },
  {
   "cell_type": "markdown",
   "id": "f5d69bf3",
   "metadata": {},
   "source": [
    "<b> [TOP⬆️](#Implementing-and-Evaluating-a-Series-of-Regression-Models) </b>\n",
    "\n",
    "---\n",
    "<h3><center>THE END</center></h3>\n",
    "\n",
    "==================================================================================================================="
   ]
  }
 ],
 "metadata": {
  "kernelspec": {
   "display_name": "Python 3 (ipykernel)",
   "language": "python",
   "name": "python3"
  },
  "language_info": {
   "codemirror_mode": {
    "name": "ipython",
    "version": 3
   },
   "file_extension": ".py",
   "mimetype": "text/x-python",
   "name": "python",
   "nbconvert_exporter": "python",
   "pygments_lexer": "ipython3",
   "version": "3.12.1"
  }
 },
 "nbformat": 4,
 "nbformat_minor": 5
}
